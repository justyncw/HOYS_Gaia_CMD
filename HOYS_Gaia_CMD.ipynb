{
 "cells": [
  {
   "cell_type": "markdown",
   "metadata": {},
   "source": [
    "# Gaia colour magnitude diagram (CMD) for HOYS Targets"
   ]
  },
  {
   "cell_type": "markdown",
   "metadata": {},
   "source": [
    "Welcome to the CMD notebook for the HOYS LCO Project.\\\n",
    "Please see the video tutorial.\n",
    "\n",
    "### Notebook tips:\n",
    "* ***Shift + Enter on a code cell/block to run it and advance to the next cell.***\n",
    "* Can re-run blocks out of order as long as the variables are already there\n",
    "* If python kernal crashses or out of memory, use the reset button above to reset the kernal."
   ]
  },
  {
   "cell_type": "code",
   "execution_count": 1,
   "metadata": {
    "tags": []
   },
   "outputs": [
    {
     "name": "stderr",
     "output_type": "stream",
     "text": [
      "WARNING: IERSStaleWarning: leap-second file is expired. [astropy.utils.iers.iers]\n"
     ]
    },
    {
     "name": "stdout",
     "output_type": "stream",
     "text": [
      "Created TAP+ (v20200428.1) - Connection:\n",
      "\tHost: gea.esac.esa.int\n",
      "\tUse HTTPS: True\n",
      "\tPort: 443\n",
      "\tSSL Port: 443\n",
      "Created TAP+ (v20200428.1) - Connection:\n",
      "\tHost: gea.esac.esa.int\n",
      "\tUse HTTPS: True\n",
      "\tPort: 443\n",
      "\tSSL Port: 443\n"
     ]
    }
   ],
   "source": [
    "import time\n",
    "import math\n",
    "from matplotlib import *\n",
    "from matplotlib.pyplot import *\n",
    "import numpy as np\n",
    "import pandas as pd\n",
    "import astropy\n",
    "from astropy.time import Time\n",
    "import astropy.units as u\n",
    "from astropy.coordinates import SkyCoord\n",
    "from astroquery.gaia import Gaia\n",
    "from astroquery.skyview import SkyView\n",
    "import numpy.ma as ma\n",
    "import os\n",
    "from ipywidgets import interact, interactive, fixed, interact_manual\n",
    "import ipywidgets as widget\n",
    "from IPython.display import display,clear_output\n"
   ]
  },
  {
   "cell_type": "code",
   "execution_count": 2,
   "metadata": {},
   "outputs": [],
   "source": [
    "#for lab\n",
    "%matplotlib widget\n",
    "#for notebook/slides\n",
    "#%matplotlib notebook #for notebook/slides\n",
    "rcParams.update({'figure.max_open_warning': 50})"
   ]
  },
  {
   "cell_type": "code",
   "execution_count": null,
   "metadata": {},
   "outputs": [],
   "source": [
    "#load in isochrones\n",
    "iso_table_1myr = pd.read_csv('gaia_edr3_iso_1myr.txt',delim_whitespace=True,index_col=False,comment='#',skip_blank_lines=True)\n",
    "iso_table_6myr = pd.read_csv('gaia_edr3_iso_6myr.txt',delim_whitespace=True,index_col=False,comment='#',skip_blank_lines=True)\n",
    "iso_table_7myr = pd.read_csv('gaia_edr3_iso_7myr.txt',delim_whitespace=True,index_col=False,comment='#',skip_blank_lines=True)\n",
    "iso_table_8myr = pd.read_csv('gaia_edr3_iso_8myr.txt',delim_whitespace=True,index_col=False,comment='#',skip_blank_lines=True)\n",
    "iso_table_9myr = pd.read_csv('gaia_edr3_iso_9myr.txt',delim_whitespace=True,index_col=False,comment='#',skip_blank_lines=True)\n",
    "iso_table_10myr = pd.read_csv('gaia_edr3_iso_10myr.txt',delim_whitespace=True,index_col=False,comment='#',skip_blank_lines=True)\n",
    "iso_table_20myr = pd.read_csv('gaia_edr3_iso_20myr.txt',delim_whitespace=True,index_col=False,comment='#',skip_blank_lines=True)\n",
    "iso_table_100myr = pd.read_csv('gaia_edr3_iso_100myr.txt',delim_whitespace=True,index_col=False,comment='#',skip_blank_lines=True)\n",
    "iso_table_1gyr = pd.read_csv('gaia_edr3_iso_1gyr.txt',delim_whitespace=True,index_col=False,comment='#',skip_blank_lines=True)\n",
    "iso_table_1gyr=iso_table_1gyr.query('Gmag >-2')\n",
    "iso_list={'1gyr':iso_table_1gyr,'100myr':iso_table_100myr,'20myr':iso_table_20myr,'10myr':iso_table_10myr,'9myr':iso_table_9myr,'8myr':iso_table_8myr,\n",
    "          '7myr':iso_table_7myr,'6myr':iso_table_6myr,'1myr':iso_table_1myr}"
   ]
  },
  {
   "cell_type": "code",
   "execution_count": 4,
   "metadata": {},
   "outputs": [],
   "source": [
    "import ssl\n",
    "ssl._create_default_https_context = ssl._create_unverified_context"
   ]
  },
  {
   "cell_type": "code",
   "execution_count": null,
   "metadata": {},
   "outputs": [],
   "source": [
    "#select HOYS target\n",
    "target_sel=widget.Dropdown(\n",
    "    options=[('NGC 1333', '03 29 02 +31 20 54'), \n",
    "             ('IC 348', '03 44 34 +32 09 48'), \n",
    "             ('Lambda – Ori Cluster','05 35 06 +09 56 00'),\n",
    "             ('M42','05 35 17 -05 23 28'), \n",
    "             ('L 1641 N Cluster','05 36 19 -06 22 12'), \n",
    "             ('Sigma – Ori Cluster','05 38 45 -02 36 00'), \n",
    "             ('NGC 2068','05 46 46 +00 04 12'), \n",
    "             ('NGC 2244','06 31 55 +04 56 30'),\n",
    "             ('NGC 2264','06 40 58 +09 53 42'),\n",
    "             ('MWSC 3274','20 11 13 +37 27 00'),\n",
    "             ('P Cyg','20 17 47 +38 01 59'),\n",
    "             ('Berkeley 86','20 20 12 +38 41 24'),\n",
    "             ('IC 5070','20 51 00 +44 22 00'),\n",
    "             ('IC 1396 A','21 36 35 +57 30 36'),\n",
    "             ('IC 1396 N','21 40 42 +58 16 06'),\n",
    "             ('NGC 7129','21 42 56 +66 06 12'),\n",
    "             ('IC 5146','21 53 29 +47 16 01'),\n",
    "             ('Gaia19fct','07 09 21 -10 29 35')\n",
    "            ],\n",
    "    description='Target:',\n",
    ")\n",
    "display(target_sel)"
   ]
  },
  {
   "cell_type": "code",
   "execution_count": 6,
   "metadata": {},
   "outputs": [],
   "source": [
    "c = SkyCoord(target_sel.value, unit=(u.hourangle, u.deg))\n",
    "coords=[c.ra.value,c.dec.value]\n",
    "radius=0.5\n",
    "radius2=0.3"
   ]
  },
  {
   "cell_type": "code",
   "execution_count": 7,
   "metadata": {},
   "outputs": [
    {
     "name": "stdout",
     "output_type": "stream",
     "text": [
      "querying DSS2 image server for  NGC 1333  around coords: 03h29m02s +31d20m54s\n"
     ]
    },
    {
     "name": "stderr",
     "output_type": "stream",
     "text": [
      "WARNING: AstropyDeprecationWarning: The truth value of a Quantity is ambiguous. In the future this will raise a ValueError. [astropy.units.quantity]\n"
     ]
    }
   ],
   "source": [
    "#query DSS2 IR image server\n",
    "print('querying DSS2 image server for ',target_sel.label,' around coords:',c.to_string('hmsdms'))\n",
    "img = SkyView.get_images(position=c,survey=['DSS2 IR'],coordinates='J2000',width=1*u.degree,height=1*u.degree)\n",
    "b = img[0][0]"
   ]
  },
  {
   "cell_type": "code",
   "execution_count": 13,
   "metadata": {},
   "outputs": [
    {
     "data": {
      "application/vnd.jupyter.widget-view+json": {
       "model_id": "91f4755515c043c49b93ffa2bf2135ec",
       "version_major": 2,
       "version_minor": 0
      },
      "text/plain": [
       "interactive(children=(FloatSlider(value=0.5, continuous_update=False, description='Query circle radius [pc]:',…"
      ]
     },
     "metadata": {},
     "output_type": "display_data"
    },
    {
     "data": {
      "text/plain": [
       "<function __main__.view_image(rad_sel=0.5, rad2_sel=0.25, ra_sel=52.25833333333333, dec_sel=31.348333333333333)>"
      ]
     },
     "execution_count": 13,
     "metadata": {},
     "output_type": "execute_result"
    }
   ],
   "source": [
    "#display image and make selections for position of Gaia query and cluster subset\n",
    "def view_image(rad_sel=0.5,rad2_sel=0.25,ra_sel=c.ra.value,dec_sel=c.dec.value):\n",
    "    global radius, radius2, coords\n",
    "    radius=rad_sel\n",
    "    radius2=rad2_sel\n",
    "    fig, ax = subplots(figsize=(7,7))\n",
    "    ax.imshow(b.data,cmap='gray',extent=[b.header['CRVAL1']-(b.header['NAXIS1']-b.header['CRPIX1'])*b.header['CDELT1'],\n",
    "                                                               b.header['CRVAL1']+(b.header['NAXIS1']-b.header['CRPIX1'])*b.header['CDELT1'],\n",
    "                                                               b.header['CRVAL2']+(b.header['NAXIS2']-b.header['CRPIX2'])*b.header['CDELT2'],\n",
    "                                                               b.header['CRVAL2']-(b.header['NAXIS2']-b.header['CRPIX2'])*b.header['CDELT2']])\n",
    "    fig.gca().invert_yaxis()\n",
    "    circle = Circle((c.ra.deg,c.dec.deg),rad_sel,color='white',fill=False,linewidth=3)\n",
    "    circle2 = Circle((ra_sel,dec_sel),rad2_sel,color='red',fill=False,linewidth=3)\n",
    "    fig.gca().add_artist(circle)\n",
    "    fig.gca().add_artist(circle2)\n",
    "    ax.set_xlabel('RA [deg]')\n",
    "    ax.set_ylabel('Dec [deg]')\n",
    "    tight_layout()\n",
    "    show()\n",
    "    coords=[ra_sel,dec_sel]\n",
    "\n",
    "\n",
    "interact(view_image,rad_sel=widget.FloatSlider(value=0.5,min=0.1,max=0.6,step=0.05,description='Query circle radius [pc]:',\n",
    "                            layout={'width': '600px'},continuous_update=False,style = {'description_width': 'initial'}),\n",
    "        rad2_sel=widget.FloatSlider(value=0.25,min=0.1,max=0.6,step=0.05,description='Cluster selection radius [pc]:',\n",
    "                            layout={'width': '600px'},continuous_update=False,style = {'description_width': 'initial'}),\n",
    "        ra_sel=widget.FloatSlider(value=c.ra.value,min=c.ra.value-0.5,max=c.ra.value+0.5,step=0.01,description='Cluster selection RA [deg]:',\n",
    "                            layout={'width': '600px'},continuous_update=False,style = {'description_width': 'initial'}),\n",
    "        dec_sel=widget.FloatSlider(value=c.dec.value,min=c.dec.value-0.5,max=c.dec.value+0.5,step=0.01,description='Cluster selection Dec [deg]:',\n",
    "                            layout={'width': '600px'},continuous_update=False,style = {'description_width': 'initial'}))"
   ]
  },
  {
   "cell_type": "code",
   "execution_count": 8,
   "metadata": {},
   "outputs": [
    {
     "name": "stdout",
     "output_type": "stream",
     "text": [
      "querying Gaia catalogue for  NGC 1333  around coords: 03h29m02s +31d20m54s with radius  0.5  deg\n",
      "INFO: Query finished. [astroquery.utils.tap.core]\n"
     ]
    },
    {
     "data": {
      "text/html": [
       "<i>Table length=4109</i>\n",
       "<table id=\"table4818098160\" class=\"table-striped table-bordered table-condensed\">\n",
       "<thead><tr><th>solution_id</th><th>designation</th><th>source_id</th><th>random_index</th><th>ref_epoch</th><th>ra</th><th>ra_error</th><th>dec</th><th>dec_error</th><th>parallax</th><th>parallax_error</th><th>parallax_over_error</th><th>pmra</th><th>pmra_error</th><th>pmdec</th><th>pmdec_error</th><th>ra_dec_corr</th><th>ra_parallax_corr</th><th>ra_pmra_corr</th><th>ra_pmdec_corr</th><th>dec_parallax_corr</th><th>dec_pmra_corr</th><th>dec_pmdec_corr</th><th>parallax_pmra_corr</th><th>parallax_pmdec_corr</th><th>pmra_pmdec_corr</th><th>astrometric_n_obs_al</th><th>astrometric_n_obs_ac</th><th>astrometric_n_good_obs_al</th><th>astrometric_n_bad_obs_al</th><th>astrometric_gof_al</th><th>astrometric_chi2_al</th><th>astrometric_excess_noise</th><th>astrometric_excess_noise_sig</th><th>astrometric_params_solved</th><th>astrometric_primary_flag</th><th>astrometric_weight_al</th><th>astrometric_pseudo_colour</th><th>astrometric_pseudo_colour_error</th><th>mean_varpi_factor_al</th><th>astrometric_matched_observations</th><th>visibility_periods_used</th><th>astrometric_sigma5d_max</th><th>frame_rotator_object_type</th><th>matched_observations</th><th>duplicated_source</th><th>phot_g_n_obs</th><th>phot_g_mean_flux</th><th>phot_g_mean_flux_error</th><th>phot_g_mean_flux_over_error</th><th>phot_g_mean_mag</th><th>phot_bp_n_obs</th><th>phot_bp_mean_flux</th><th>phot_bp_mean_flux_error</th><th>phot_bp_mean_flux_over_error</th><th>phot_bp_mean_mag</th><th>phot_rp_n_obs</th><th>phot_rp_mean_flux</th><th>phot_rp_mean_flux_error</th><th>phot_rp_mean_flux_over_error</th><th>phot_rp_mean_mag</th><th>phot_bp_rp_excess_factor</th><th>phot_proc_mode</th><th>bp_rp</th><th>bp_g</th><th>g_rp</th><th>radial_velocity</th><th>radial_velocity_error</th><th>rv_nb_transits</th><th>rv_template_teff</th><th>rv_template_logg</th><th>rv_template_fe_h</th><th>phot_variable_flag</th><th>l</th><th>b</th><th>ecl_lon</th><th>ecl_lat</th><th>priam_flags</th><th>teff_val</th><th>teff_percentile_lower</th><th>teff_percentile_upper</th><th>a_g_val</th><th>a_g_percentile_lower</th><th>a_g_percentile_upper</th><th>e_bp_min_rp_val</th><th>e_bp_min_rp_percentile_lower</th><th>e_bp_min_rp_percentile_upper</th><th>flame_flags</th><th>radius_val</th><th>radius_percentile_lower</th><th>radius_percentile_upper</th><th>lum_val</th><th>lum_percentile_lower</th><th>lum_percentile_upper</th><th>datalink_url</th><th>dist</th></tr></thead>\n",
       "<thead><tr><th></th><th></th><th></th><th></th><th>yr</th><th>deg</th><th>mas</th><th>deg</th><th>mas</th><th>mas</th><th>mas</th><th></th><th>mas / yr</th><th>mas / yr</th><th>mas / yr</th><th>mas / yr</th><th></th><th></th><th></th><th></th><th></th><th></th><th></th><th></th><th></th><th></th><th></th><th></th><th></th><th></th><th></th><th></th><th>mas</th><th></th><th></th><th></th><th>1 / mas2</th><th>1 / um</th><th>1 / um</th><th></th><th></th><th></th><th>mas</th><th></th><th></th><th></th><th></th><th>electron / s</th><th>electron / s</th><th></th><th>mag</th><th></th><th>electron / s</th><th>electron / s</th><th></th><th>mag</th><th></th><th>electron / s</th><th>electron / s</th><th></th><th>mag</th><th></th><th></th><th>mag</th><th>mag</th><th>mag</th><th>km / s</th><th>km / s</th><th></th><th>K</th><th>log(cm.s**-2)</th><th>dex</th><th></th><th>deg</th><th>deg</th><th>deg</th><th>deg</th><th></th><th>K</th><th>K</th><th>K</th><th>mag</th><th>mag</th><th>mag</th><th>mag</th><th>mag</th><th>mag</th><th></th><th>Rsun</th><th>Rsun</th><th>Rsun</th><th>Lsun</th><th>Lsun</th><th>Lsun</th><th></th><th></th></tr></thead>\n",
       "<thead><tr><th>int64</th><th>object</th><th>int64</th><th>int64</th><th>float64</th><th>float64</th><th>float64</th><th>float64</th><th>float64</th><th>float64</th><th>float64</th><th>float32</th><th>float64</th><th>float64</th><th>float64</th><th>float64</th><th>float32</th><th>float32</th><th>float32</th><th>float32</th><th>float32</th><th>float32</th><th>float32</th><th>float32</th><th>float32</th><th>float32</th><th>int32</th><th>int32</th><th>int32</th><th>int32</th><th>float32</th><th>float32</th><th>float64</th><th>float64</th><th>int16</th><th>bool</th><th>float32</th><th>float64</th><th>float64</th><th>float32</th><th>int16</th><th>int16</th><th>float32</th><th>int32</th><th>int16</th><th>bool</th><th>int32</th><th>float64</th><th>float64</th><th>float32</th><th>float32</th><th>int32</th><th>float64</th><th>float64</th><th>float32</th><th>float32</th><th>int32</th><th>float64</th><th>float64</th><th>float32</th><th>float32</th><th>float32</th><th>int16</th><th>float32</th><th>float32</th><th>float32</th><th>float64</th><th>float64</th><th>int32</th><th>float32</th><th>float32</th><th>float32</th><th>object</th><th>float64</th><th>float64</th><th>float64</th><th>float64</th><th>int64</th><th>float32</th><th>float32</th><th>float32</th><th>float32</th><th>float32</th><th>float32</th><th>float32</th><th>float32</th><th>float32</th><th>int64</th><th>float32</th><th>float32</th><th>float32</th><th>float32</th><th>float32</th><th>float32</th><th>object</th><th>float64</th></tr></thead>\n",
       "<tr><td>1635721458409799680</td><td>Gaia DR2 121406978723406720</td><td>121406978723406720</td><td>982592814</td><td>2015.5</td><td>52.25159671020132</td><td>0.25669556071183003</td><td>31.345962429568946</td><td>0.14658457062239585</td><td>2.552376233254847</td><td>0.3020543695010193</td><td>8.450056</td><td>7.457542113915376</td><td>0.4404855721034779</td><td>-10.749175814514613</td><td>0.30792642630041483</td><td>-0.26966205</td><td>0.50985295</td><td>-0.09963563</td><td>0.012812337</td><td>-0.46543333</td><td>-0.0023354914</td><td>0.21608423</td><td>0.19127254</td><td>0.015584374</td><td>0.18273269</td><td>124</td><td>0</td><td>123</td><td>1</td><td>2.5217416</td><td>160.31467</td><td>0.5150098365407303</td><td>1.701072507974174</td><td>31</td><td>False</td><td>0.70594746</td><td>1.1652898581638578</td><td>0.06032526073474221</td><td>-0.022349017</td><td>15</td><td>9</td><td>0.39604115</td><td>0</td><td>18</td><td>False</td><td>147</td><td>1112.5008200015313</td><td>2.1640739030895455</td><td>514.0771</td><td>18.072615</td><td>16</td><td>97.73157495585508</td><td>9.089518407570734</td><td>10.752118</td><td>20.3763</td><td>16</td><td>2025.3632812523292</td><td>18.90463643311921</td><td>107.135796</td><td>16.495663</td><td>1.9083985</td><td>0</td><td>3.8806381</td><td>2.3036861</td><td>1.576952</td><td>--</td><td>--</td><td>0</td><td>--</td><td>--</td><td>--</td><td>NOT_AVAILABLE</td><td>158.28681699119804</td><td>-20.499938648190724</td><td>57.68267645080079</td><td>12.04388084248956</td><td>--</td><td>--</td><td>--</td><td>--</td><td>--</td><td>--</td><td>--</td><td>--</td><td>--</td><td>--</td><td>--</td><td>--</td><td>--</td><td>--</td><td>--</td><td>--</td><td>--</td><td>https://gea.esac.esa.int/data-server/datalink/links?ID=Gaia+DR2+121406978723406720</td><td>0.006229196804838743</td></tr>\n",
       "<tr><td>1635721458409799680</td><td>Gaia DR2 121407013083143936</td><td>121407013083143936</td><td>127424176</td><td>2015.5</td><td>52.26611090787137</td><td>0.11684247441504839</td><td>31.363482002203405</td><td>0.07062536866673404</td><td>3.03712584723906</td><td>0.14576655221534243</td><td>20.835546</td><td>6.432014701198499</td><td>0.20305413247611995</td><td>-9.568579282227367</td><td>0.14519497020881145</td><td>-0.27523935</td><td>0.53612775</td><td>0.021166135</td><td>0.014056669</td><td>-0.50876963</td><td>-0.09404337</td><td>0.19349425</td><td>0.24452466</td><td>0.08827249</td><td>0.19681387</td><td>114</td><td>0</td><td>114</td><td>0</td><td>11.928514</td><td>395.43637</td><td>0.4411108716353304</td><td>16.17009740901732</td><td>31</td><td>False</td><td>3.8217895</td><td>1.2816854737684296</td><td>0.030061256931030768</td><td>-0.04499352</td><td>13</td><td>9</td><td>0.18698315</td><td>0</td><td>16</td><td>False</td><td>133</td><td>13508.391560714694</td><td>35.29654981776066</td><td>382.7114</td><td>15.361856</td><td>14</td><td>3181.63728563704</td><td>36.61192394294049</td><td>86.90167</td><td>16.59476</td><td>15</td><td>19640.7113135781</td><td>79.92377168618226</td><td>245.74304</td><td>14.029027</td><td>1.6894941</td><td>0</td><td>2.565734</td><td>1.2329044</td><td>1.3328295</td><td>--</td><td>--</td><td>0</td><td>--</td><td>--</td><td>--</td><td>NOT_AVAILABLE</td><td>158.2860933700975</td><td>-20.478488671740323</td><td>57.699411284326324</td><td>12.057762973000171</td><td>102001</td><td>3910.8699</td><td>3418.0</td><td>4726.4434</td><td>--</td><td>--</td><td>--</td><td>--</td><td>--</td><td>--</td><td>200111</td><td>0.69683224</td><td>0.47709632</td><td>0.9122857</td><td>0.10233982</td><td>0.09237318</td><td>0.11230646</td><td>https://gea.esac.esa.int/data-server/datalink/links?ID=Gaia+DR2+121407013083143936</td><td>0.016539959314344065</td></tr>\n",
       "<tr><td>1635721458409799680</td><td>Gaia DR2 121406978723405952</td><td>121406978723405952</td><td>158944990</td><td>2015.5</td><td>52.24815601788983</td><td>0.10326633475933282</td><td>31.36293662569101</td><td>0.06284251785553839</td><td>3.2634061032124655</td><td>0.11843258100166655</td><td>27.55497</td><td>6.45740103605099</td><td>0.15773172500243682</td><td>-8.85005940047555</td><td>0.1319729937845134</td><td>-0.27466932</td><td>0.65867937</td><td>0.10259855</td><td>-0.03246281</td><td>-0.41159293</td><td>0.03228627</td><td>0.44561148</td><td>0.071794525</td><td>-0.07343579</td><td>0.1124809</td><td>140</td><td>0</td><td>140</td><td>0</td><td>2.848125</td><td>186.58723</td><td>0.24934576638011027</td><td>2.7722686442802074</td><td>31</td><td>True</td><td>4.3786726</td><td>1.313577863764142</td><td>0.0229961637355257</td><td>0.01609137</td><td>16</td><td>9</td><td>0.14439423</td><td>0</td><td>19</td><td>False</td><td>166</td><td>5414.678257553739</td><td>186.2980374190613</td><td>29.064602</td><td>16.354435</td><td>17</td><td>1526.740134410209</td><td>174.06012892499496</td><td>8.7713375</td><td>17.391975</td><td>17</td><td>6928.140466218144</td><td>760.5718454815568</td><td>9.10912</td><td>15.160378</td><td>1.5614742</td><td>0</td><td>2.231597</td><td>1.0375404</td><td>1.1940565</td><td>--</td><td>--</td><td>0</td><td>--</td><td>--</td><td>--</td><td>NOT_AVAILABLE</td><td>158.2733884464239</td><td>-20.488168578707548</td><td>57.684088748685646</td><td>12.061052007515578</td><td>102001</td><td>3579.3333</td><td>3422.0</td><td>3972.125</td><td>--</td><td>--</td><td>--</td><td>--</td><td>--</td><td>--</td><td>200111</td><td>0.5502238</td><td>0.44678426</td><td>0.60198224</td><td>0.04476948</td><td>0.041111216</td><td>0.048427746</td><td>https://gea.esac.esa.int/data-server/datalink/links?ID=Gaia+DR2+121406978723405952</td><td>0.017000428213179014</td></tr>\n",
       "<tr><td>1635721458409799680</td><td>Gaia DR2 121405501253729408</td><td>121405501253729408</td><td>776682811</td><td>2015.5</td><td>52.237280767064</td><td>1.968202876126691</td><td>31.34679185535946</td><td>0.805024163999231</td><td>1.0698044803308706</td><td>2.2618373388932618</td><td>0.4729803</td><td>9.299751647625454</td><td>2.427552611478194</td><td>-11.416787359994192</td><td>1.7837099405057077</td><td>-0.15939927</td><td>0.77917546</td><td>0.06883662</td><td>0.21633883</td><td>-0.22390266</td><td>0.1023092</td><td>0.21864109</td><td>0.19279778</td><td>0.17512044</td><td>0.15871215</td><td>128</td><td>0</td><td>128</td><td>0</td><td>3.5204155</td><td>186.01016</td><td>3.7532959818697043</td><td>2.9189983079126853</td><td>31</td><td>False</td><td>0.019243054</td><td>0.9125533030487845</td><td>0.33928447467053935</td><td>0.06577798</td><td>15</td><td>8</td><td>2.5018425</td><td>0</td><td>18</td><td>True</td><td>145</td><td>122.1163483127689</td><td>0.9798445312778834</td><td>124.62829</td><td>20.471432</td><td>9</td><td>42.16400379781682</td><td>10.703548440932298</td><td>3.9392548</td><td>21.289034</td><td>16</td><td>337.4449516519648</td><td>7.919482852292291</td><td>42.609467</td><td>18.441412</td><td>3.1085842</td><td>1</td><td>2.847622</td><td>0.81760216</td><td>2.0300198</td><td>--</td><td>--</td><td>0</td><td>--</td><td>--</td><td>--</td><td>NOT_AVAILABLE</td><td>158.2758691420142</td><td>-20.506648389894966</td><td>57.67077991555095</td><td>12.047728988191317</td><td>--</td><td>--</td><td>--</td><td>--</td><td>--</td><td>--</td><td>--</td><td>--</td><td>--</td><td>--</td><td>--</td><td>--</td><td>--</td><td>--</td><td>--</td><td>--</td><td>--</td><td>https://gea.esac.esa.int/data-server/datalink/links?ID=Gaia+DR2+121405501253729408</td><td>0.01805338641721064</td></tr>\n",
       "<tr><td>1635721458409799680</td><td>Gaia DR2 121407047442195072</td><td>121407047442195072</td><td>745387773</td><td>2015.5</td><td>52.242754413141824</td><td>1.3740718181356357</td><td>31.36720047204317</td><td>0.6713072866590912</td><td>0.9745676899853137</td><td>1.506490421454583</td><td>0.64691263</td><td>11.85141039851137</td><td>2.217731011626433</td><td>-9.713107861846261</td><td>1.5604121563853242</td><td>-0.25407928</td><td>0.62542313</td><td>-0.24400598</td><td>-0.11479603</td><td>-0.36821502</td><td>0.09282061</td><td>0.17740183</td><td>-0.036390502</td><td>-0.16321635</td><td>0.24939589</td><td>123</td><td>0</td><td>122</td><td>1</td><td>3.509897</td><td>178.43802</td><td>2.7722934533515793</td><td>2.2746732763860087</td><td>31</td><td>False</td><td>0.029265067</td><td>1.2205493070660687</td><td>0.3150787991151231</td><td>0.013676807</td><td>14</td><td>8</td><td>2.0639195</td><td>0</td><td>16</td><td>False</td><td>139</td><td>130.61627679492076</td><td>1.955859987541898</td><td>66.78202</td><td>20.398373</td><td>15</td><td>28.098715151052996</td><td>4.586720641802996</td><td>6.1261015</td><td>21.729671</td><td>14</td><td>337.0141283029015</td><td>9.206792678785497</td><td>36.604942</td><td>18.4428</td><td>2.7953088</td><td>0</td><td>3.286871</td><td>1.3312988</td><td>1.9555721</td><td>--</td><td>--</td><td>0</td><td>--</td><td>--</td><td>--</td><td>NOT_AVAILABLE</td><td>158.26671600494515</td><td>-20.487547289333897</td><td>57.68060683993622</td><td>12.06633018893943</td><td>--</td><td>--</td><td>--</td><td>--</td><td>--</td><td>--</td><td>--</td><td>--</td><td>--</td><td>--</td><td>--</td><td>--</td><td>--</td><td>--</td><td>--</td><td>--</td><td>--</td><td>https://gea.esac.esa.int/data-server/datalink/links?ID=Gaia+DR2+121407047442195072</td><td>0.023092736510169545</td></tr>\n",
       "<tr><td>1635721458409799680</td><td>Gaia DR2 121404710980675328</td><td>121404710980675328</td><td>472507903</td><td>2015.5</td><td>52.240433424992496</td><td>0.5931231807200876</td><td>31.329983443032408</td><td>0.4842156237926331</td><td>2.033550171605634</td><td>0.8142252649078089</td><td>2.4975278</td><td>1.7236857448090646</td><td>0.9821104995772904</td><td>-10.442545719039225</td><td>0.9591615189194165</td><td>-0.16597052</td><td>0.59053266</td><td>0.0238589</td><td>0.09516474</td><td>-0.5872832</td><td>0.3488282</td><td>0.59715277</td><td>-0.08036977</td><td>-0.25168207</td><td>0.4401113</td><td>132</td><td>0</td><td>132</td><td>0</td><td>42.4658</td><td>2712.752</td><td>2.8395149254853815</td><td>138.96779475076443</td><td>31</td><td>False</td><td>0.11490177</td><td>0.9228236865514307</td><td>0.140152509175587</td><td>0.060114257</td><td>15</td><td>8</td><td>1.0756934</td><td>0</td><td>18</td><td>False</td><td>158</td><td>2467.0358267265583</td><td>9.673059786245709</td><td>255.04193</td><td>17.207928</td><td>16</td><td>299.4884571074213</td><td>9.126743388119612</td><td>32.814384</td><td>19.160439</td><td>16</td><td>4210.874721590387</td><td>28.341299909844235</td><td>148.57733</td><td>15.700989</td><td>1.828252</td><td>0</td><td>3.4594498</td><td>1.9525108</td><td>1.5069389</td><td>--</td><td>--</td><td>0</td><td>--</td><td>--</td><td>--</td><td>NOT_AVAILABLE</td><td>158.28898237742808</td><td>-20.51843528564523</td><td>57.669165885686695</td><td>12.03077960167782</td><td>--</td><td>--</td><td>--</td><td>--</td><td>--</td><td>--</td><td>--</td><td>--</td><td>--</td><td>--</td><td>--</td><td>--</td><td>--</td><td>--</td><td>--</td><td>--</td><td>--</td><td>https://gea.esac.esa.int/data-server/datalink/links?ID=Gaia+DR2+121404710980675328</td><td>0.023887257992095085</td></tr>\n",
       "<tr><td>1635721458409799680</td><td>Gaia DR2 121404710980675200</td><td>121404710980675200</td><td>1193133541</td><td>2015.5</td><td>52.23925669639096</td><td>0.1279819430255163</td><td>31.330629875147245</td><td>0.0771835014447324</td><td>3.6034362841582053</td><td>0.15646359607463073</td><td>23.03051</td><td>6.1399234650332115</td><td>0.19455039724488724</td><td>-10.92065922869039</td><td>0.1611720461384244</td><td>-0.2468347</td><td>0.64967674</td><td>-0.01583391</td><td>0.06688348</td><td>-0.45415395</td><td>0.06982416</td><td>0.27959034</td><td>0.12123803</td><td>0.009004694</td><td>0.24113688</td><td>141</td><td>0</td><td>139</td><td>2</td><td>11.570128</td><td>425.23175</td><td>0.49984732307142693</td><td>13.776503777174192</td><td>31</td><td>False</td><td>2.639485</td><td>1.176141782164616</td><td>0.032188603324915195</td><td>0.01658937</td><td>16</td><td>9</td><td>0.1818168</td><td>0</td><td>19</td><td>False</td><td>165</td><td>7456.137362673895</td><td>8.82450962961234</td><td>844.93506</td><td>16.00708</td><td>17</td><td>754.5042914830116</td><td>8.341072136274652</td><td>90.45651</td><td>18.157234</td><td>18</td><td>11562.51777896302</td><td>45.90620913699534</td><td>251.87263</td><td>14.604289</td><td>1.6519307</td><td>0</td><td>3.5529451</td><td>2.150154</td><td>1.402791</td><td>--</td><td>--</td><td>0</td><td>--</td><td>--</td><td>--</td><td>NOT_AVAILABLE</td><td>158.28771000539174</td><td>-20.51852557624709</td><td>57.668335162895794</td><td>12.031655997777804</td><td>100001</td><td>3532.505</td><td>3371.0</td><td>3796.675</td><td>1.746</td><td>1.2803</td><td>2.1311</td><td>0.9627</td><td>0.6859</td><td>1.1978</td><td>200111</td><td>0.6110666</td><td>0.52898973</td><td>0.67102176</td><td>0.05238451</td><td>0.047778644</td><td>0.056990378</td><td>https://gea.esac.esa.int/data-server/datalink/links?ID=Gaia+DR2+121404710980675200</td><td>0.024063554503847635</td></tr>\n",
       "<tr><td>1635721458409799680</td><td>Gaia DR2 121406188448737664</td><td>121406188448737664</td><td>546178715</td><td>2015.5</td><td>52.284724446313376</td><td>1.046759098699764</td><td>31.33892788110259</td><td>0.5584188047647815</td><td>2.7164650096298053</td><td>1.1582662509380712</td><td>2.3452854</td><td>6.629137341290598</td><td>1.8685243635916446</td><td>-10.546173958725369</td><td>1.3147487426662363</td><td>-0.2658004</td><td>0.55475825</td><td>-0.2024948</td><td>-0.25113308</td><td>-0.4445257</td><td>0.006840726</td><td>0.28987518</td><td>-0.038237657</td><td>-0.22094849</td><td>0.2979701</td><td>141</td><td>0</td><td>141</td><td>0</td><td>2.728331</td><td>185.32114</td><td>2.019913402851024</td><td>1.71152769770551</td><td>31</td><td>False</td><td>0.039931457</td><td>1.37706153114441</td><td>0.2184981022936257</td><td>0.05908982</td><td>16</td><td>8</td><td>1.7345774</td><td>0</td><td>19</td><td>False</td><td>166</td><td>153.60550713916305</td><td>1.0349011319605579</td><td>148.4253</td><td>20.22235</td><td>15</td><td>64.68707428386617</td><td>8.552459282919246</td><td>7.5635643</td><td>20.824345</td><td>16</td><td>426.77092263183795</td><td>9.965386829167185</td><td>42.825325</td><td>18.186434</td><td>3.1994817</td><td>0</td><td>2.6379108</td><td>0.60199547</td><td>2.0359154</td><td>--</td><td>--</td><td>0</td><td>--</td><td>--</td><td>--</td><td>NOT_AVAILABLE</td><td>158.31543863259282</td><td>-20.48848322298092</td><td>57.70890536755389</td><td>12.030025454238936</td><td>--</td><td>--</td><td>--</td><td>--</td><td>--</td><td>--</td><td>--</td><td>--</td><td>--</td><td>--</td><td>--</td><td>--</td><td>--</td><td>--</td><td>--</td><td>--</td><td>--</td><td>https://gea.esac.esa.int/data-server/datalink/links?ID=Gaia+DR2+121406188448737664</td><td>0.02441465096097125</td></tr>\n",
       "<tr><td>1635721458409799680</td><td>Gaia DR2 121407111866582016</td><td>121407111866582016</td><td>326025945</td><td>2015.5</td><td>52.26309544466135</td><td>0.6063229513093551</td><td>31.377203039845753</td><td>0.3514084389390903</td><td>4.247900930634987</td><td>0.6837823213189778</td><td>6.2123585</td><td>2.9636424740931537</td><td>1.0083680513141704</td><td>-9.776696274417134</td><td>0.7149515830597828</td><td>-0.25711307</td><td>0.5458</td><td>0.07659656</td><td>0.07941216</td><td>-0.4103847</td><td>0.02333762</td><td>0.32726204</td><td>0.16911797</td><td>0.03576611</td><td>0.070563465</td><td>123</td><td>0</td><td>122</td><td>1</td><td>23.852177</td><td>989.8052</td><td>2.5816129224068254</td><td>55.74482282651226</td><td>31</td><td>False</td><td>0.12640539</td><td>1.7934361995700954</td><td>0.1366021573971444</td><td>-0.07727566</td><td>14</td><td>9</td><td>0.8969329</td><td>0</td><td>17</td><td>False</td><td>148</td><td>1119.882397837422</td><td>20.81477008154286</td><td>53.802296</td><td>18.065435</td><td>17</td><td>277.54152513197323</td><td>18.19179401081892</td><td>15.256413</td><td>19.243069</td><td>16</td><td>1910.447979853666</td><td>66.22776338099999</td><td>28.846632</td><td>16.559082</td><td>1.9537672</td><td>0</td><td>2.6839867</td><td>1.1776333</td><td>1.5063534</td><td>--</td><td>--</td><td>0</td><td>--</td><td>--</td><td>--</td><td>NOT_AVAILABLE</td><td>158.27506857632346</td><td>-20.469096106608866</td><td>57.700354280177606</td><td>12.071692990089025</td><td>--</td><td>--</td><td>--</td><td>--</td><td>--</td><td>--</td><td>--</td><td>--</td><td>--</td><td>--</td><td>--</td><td>--</td><td>--</td><td>--</td><td>--</td><td>--</td><td>--</td><td>https://gea.esac.esa.int/data-server/datalink/links?ID=Gaia+DR2+121407111866582016</td><td>0.029156321138225277</td></tr>\n",
       "<tr><td>...</td><td>...</td><td>...</td><td>...</td><td>...</td><td>...</td><td>...</td><td>...</td><td>...</td><td>...</td><td>...</td><td>...</td><td>...</td><td>...</td><td>...</td><td>...</td><td>...</td><td>...</td><td>...</td><td>...</td><td>...</td><td>...</td><td>...</td><td>...</td><td>...</td><td>...</td><td>...</td><td>...</td><td>...</td><td>...</td><td>...</td><td>...</td><td>...</td><td>...</td><td>...</td><td>...</td><td>...</td><td>...</td><td>...</td><td>...</td><td>...</td><td>...</td><td>...</td><td>...</td><td>...</td><td>...</td><td>...</td><td>...</td><td>...</td><td>...</td><td>...</td><td>...</td><td>...</td><td>...</td><td>...</td><td>...</td><td>...</td><td>...</td><td>...</td><td>...</td><td>...</td><td>...</td><td>...</td><td>...</td><td>...</td><td>...</td><td>...</td><td>...</td><td>...</td><td>...</td><td>...</td><td>...</td><td>...</td><td>...</td><td>...</td><td>...</td><td>...</td><td>...</td><td>...</td><td>...</td><td>...</td><td>...</td><td>...</td><td>...</td><td>...</td><td>...</td><td>...</td><td>...</td><td>...</td><td>...</td><td>...</td><td>...</td><td>...</td><td>...</td><td>...</td><td>...</td></tr>\n",
       "<tr><td>1635721458409799680</td><td>Gaia DR2 124433448902813184</td><td>124433448902813184</td><td>1568475613</td><td>2015.5</td><td>51.92489835976106</td><td>1.5766637516923598</td><td>31.75917688233302</td><td>0.7343874065822437</td><td>-2.7531270289054453</td><td>1.898582607550064</td><td>-1.450096</td><td>1.236626793681038</td><td>3.122927258265799</td><td>-3.8613618108270815</td><td>1.822747180688389</td><td>-0.31073552</td><td>0.5339719</td><td>-0.29613334</td><td>-0.09130076</td><td>-0.51856226</td><td>0.17088233</td><td>0.18722351</td><td>-0.051111106</td><td>-0.19161436</td><td>0.40079954</td><td>79</td><td>0</td><td>78</td><td>1</td><td>0.66733116</td><td>80.64936</td><td>0.0</td><td>0.0</td><td>31</td><td>False</td><td>0.04180095</td><td>1.2676424035019411</td><td>0.3064778388355148</td><td>-0.17454058</td><td>9</td><td>6</td><td>2.8979073</td><td>0</td><td>11</td><td>False</td><td>97</td><td>148.8686017834533</td><td>1.5956831560453488</td><td>93.294586</td><td>20.256357</td><td>9</td><td>59.649760106230644</td><td>11.54642706404871</td><td>5.1660795</td><td>20.912367</td><td>9</td><td>175.64524223313788</td><td>7.02523009465577</td><td>25.002062</td><td>19.15033</td><td>1.580555</td><td>0</td><td>1.7620373</td><td>0.6560097</td><td>1.1060276</td><td>--</td><td>--</td><td>0</td><td>--</td><td>--</td><td>--</td><td>NOT_AVAILABLE</td><td>157.78448936982596</td><td>-20.336748951845053</td><td>57.51259648597188</td><td>12.513596635820589</td><td>--</td><td>--</td><td>--</td><td>--</td><td>--</td><td>--</td><td>--</td><td>--</td><td>--</td><td>--</td><td>--</td><td>--</td><td>--</td><td>--</td><td>--</td><td>--</td><td>--</td><td>https://gea.esac.esa.int/data-server/datalink/links?ID=Gaia+DR2+124433448902813184</td><td>0.4995319290015644</td></tr>\n",
       "<tr><td>1635721458409799680</td><td>Gaia DR2 121342721716759680</td><td>121342721716759680</td><td>846008164</td><td>2015.5</td><td>52.764662692043444</td><td>0.47689348019125904</td><td>31.09899704397219</td><td>0.27393316103705834</td><td>0.5960395283757212</td><td>0.5877904010856441</td><td>1.0140342</td><td>3.0950151796112926</td><td>0.7612372431075636</td><td>-0.14113378993936887</td><td>0.5440526497248332</td><td>-0.14245772</td><td>0.5704787</td><td>0.055543754</td><td>0.38693702</td><td>-0.44036815</td><td>0.17267986</td><td>0.1736033</td><td>0.25105432</td><td>0.19886498</td><td>0.24044745</td><td>140</td><td>0</td><td>140</td><td>0</td><td>1.2280133</td><td>155.46675</td><td>0.5635642971171324</td><td>0.5711146900877778</td><td>31</td><td>False</td><td>0.19956115</td><td>1.3863969094289184</td><td>0.08402480764491096</td><td>0.009218535</td><td>16</td><td>9</td><td>0.7145462</td><td>0</td><td>18</td><td>False</td><td>158</td><td>418.05087932603595</td><td>1.5696949205879707</td><td>266.3262</td><td>19.135292</td><td>16</td><td>172.75390418807555</td><td>9.324937377551288</td><td>18.526012</td><td>19.757818</td><td>15</td><td>470.0482043166865</td><td>14.960200972439905</td><td>31.419912</td><td>18.081564</td><td>1.537617</td><td>0</td><td>1.6762543</td><td>0.62252617</td><td>1.0537281</td><td>--</td><td>--</td><td>0</td><td>--</td><td>--</td><td>--</td><td>NOT_AVAILABLE</td><td>158.81907173818894</td><td>-20.430418480334016</td><td>58.05464683406098</td><td>11.696046905914896</td><td>--</td><td>--</td><td>--</td><td>--</td><td>--</td><td>--</td><td>--</td><td>--</td><td>--</td><td>--</td><td>--</td><td>--</td><td>--</td><td>--</td><td>--</td><td>--</td><td>--</td><td>https://gea.esac.esa.int/data-server/datalink/links?ID=Gaia+DR2+121342721716759680</td><td>0.4996372799729807</td></tr>\n",
       "<tr><td>1635721458409799680</td><td>Gaia DR2 124451560779916416</td><td>124451560779916416</td><td>915621398</td><td>2015.5</td><td>52.303816378746845</td><td>0.7788974405832627</td><td>31.846490503730084</td><td>0.458132057176665</td><td>-0.43603079026642944</td><td>0.9118678793056063</td><td>-0.4781732</td><td>-3.847341810724176</td><td>1.2819445085357797</td><td>-4.597962036126356</td><td>0.9718184533290428</td><td>-0.24012457</td><td>0.58995444</td><td>-0.11761219</td><td>-0.015736453</td><td>-0.44676054</td><td>-0.09821093</td><td>0.012088704</td><td>0.17701797</td><td>0.095697336</td><td>0.23394965</td><td>121</td><td>0</td><td>120</td><td>1</td><td>2.3986895</td><td>154.53531</td><td>1.4578077567880137</td><td>1.446391756266709</td><td>31</td><td>False</td><td>0.07290259</td><td>1.4000687233917972</td><td>0.18010598306685255</td><td>-0.16153368</td><td>14</td><td>9</td><td>1.170238</td><td>0</td><td>16</td><td>False</td><td>137</td><td>202.47816561513358</td><td>1.2589274164357085</td><td>160.83386</td><td>19.92242</td><td>15</td><td>73.02374621697155</td><td>9.163178656548862</td><td>7.9692593</td><td>20.692728</td><td>12</td><td>287.88068962254994</td><td>7.907092996568467</td><td>36.407906</td><td>18.613888</td><td>1.7824364</td><td>0</td><td>2.0788403</td><td>0.77030754</td><td>1.3085327</td><td>--</td><td>--</td><td>0</td><td>--</td><td>--</td><td>--</td><td>NOT_AVAILABLE</td><td>158.00315299588743</td><td>-20.073658243993254</td><td>57.8543506341333</td><td>12.517556060150984</td><td>--</td><td>--</td><td>--</td><td>--</td><td>--</td><td>--</td><td>--</td><td>--</td><td>--</td><td>--</td><td>--</td><td>--</td><td>--</td><td>--</td><td>--</td><td>--</td><td>--</td><td>https://gea.esac.esa.int/data-server/datalink/links?ID=Gaia+DR2+124451560779916416</td><td>0.49966341442580464</td></tr>\n",
       "<tr><td>1635721458409799680</td><td>Gaia DR2 124439461857161856</td><td>124439461857161856</td><td>776093324</td><td>2015.5</td><td>52.00319309937462</td><td>1.9699221723653249</td><td>31.798248285317168</td><td>0.921214959946793</td><td>0.5866890973137093</td><td>2.028221315118073</td><td>0.28926286</td><td>2.7605952840451673</td><td>3.5718486109794934</td><td>-21.043269021649373</td><td>2.2265311172813242</td><td>-0.52829814</td><td>0.53570116</td><td>-0.50827533</td><td>0.21603516</td><td>-0.49275875</td><td>0.61526257</td><td>0.09044477</td><td>-0.34414712</td><td>-0.3661457</td><td>0.11413208</td><td>81</td><td>0</td><td>80</td><td>1</td><td>0.6227514</td><td>82.17799</td><td>1.1408389405137496</td><td>0.3500717373394133</td><td>31</td><td>False</td><td>0.036833715</td><td>1.2107129220643555</td><td>0.31808216471909767</td><td>-0.22989832</td><td>10</td><td>6</td><td>3.4637127</td><td>0</td><td>12</td><td>False</td><td>99</td><td>132.12634584881744</td><td>1.4744013481642093</td><td>89.613556</td><td>20.385893</td><td>8</td><td>60.49547193299221</td><td>9.53981037129213</td><td>6.3413706</td><td>20.897081</td><td>10</td><td>230.27190514470132</td><td>10.013971676140592</td><td>22.995062</td><td>18.856318</td><td>2.2006767</td><td>0</td><td>2.0407639</td><td>0.5111885</td><td>1.5295753</td><td>--</td><td>--</td><td>0</td><td>--</td><td>--</td><td>--</td><td>NOT_AVAILABLE</td><td>157.81640589935054</td><td>-20.26561226519385</td><td>57.588641119879895</td><td>12.534706211161431</td><td>--</td><td>--</td><td>--</td><td>--</td><td>--</td><td>--</td><td>--</td><td>--</td><td>--</td><td>--</td><td>--</td><td>--</td><td>--</td><td>--</td><td>--</td><td>--</td><td>--</td><td>https://gea.esac.esa.int/data-server/datalink/links?ID=Gaia+DR2+124439461857161856</td><td>0.4996795680161727</td></tr>\n",
       "<tr><td>1635721458409799680</td><td>Gaia DR2 121373130085325952</td><td>121373130085325952</td><td>1555742929</td><td>2015.5</td><td>52.84354008439937</td><td>0.5017440758237784</td><td>31.35942250021109</td><td>0.2453558355123532</td><td>0.9437106758297092</td><td>0.5039737662681454</td><td>1.8725393</td><td>2.2632937992770232</td><td>0.8980988695509416</td><td>-2.1173183838722345</td><td>0.5092021854217889</td><td>-0.2995066</td><td>0.38825533</td><td>-0.07217025</td><td>0.3479249</td><td>-0.37559435</td><td>0.2084645</td><td>0.09852934</td><td>0.21323675</td><td>0.091792025</td><td>-0.08693136</td><td>103</td><td>0</td><td>103</td><td>0</td><td>1.4622213</td><td>119.16845</td><td>0.6467551764594122</td><td>0.9432584573042807</td><td>31</td><td>False</td><td>0.28443906</td><td>1.5140105501925012</td><td>0.08286802541488104</td><td>-0.20486686</td><td>12</td><td>7</td><td>0.79583305</td><td>0</td><td>15</td><td>False</td><td>128</td><td>554.1168606455532</td><td>1.7604873057277677</td><td>314.75198</td><td>18.829363</td><td>12</td><td>213.18260479543227</td><td>10.046836072874912</td><td>21.21888</td><td>19.529509</td><td>13</td><td>560.2839130315158</td><td>8.98564340651125</td><td>62.353233</td><td>17.8909</td><td>1.3958545</td><td>0</td><td>1.6386089</td><td>0.7001457</td><td>0.9384632</td><td>--</td><td>--</td><td>0</td><td>--</td><td>--</td><td>--</td><td>NOT_AVAILABLE</td><td>158.70691135294913</td><td>-20.182818320924508</td><td>58.186807815878325</td><td>11.931920343395262</td><td>--</td><td>--</td><td>--</td><td>--</td><td>--</td><td>--</td><td>--</td><td>--</td><td>--</td><td>--</td><td>--</td><td>--</td><td>--</td><td>--</td><td>--</td><td>--</td><td>--</td><td>https://gea.esac.esa.int/data-server/datalink/links?ID=Gaia+DR2+121373130085325952</td><td>0.499863231464416</td></tr>\n",
       "<tr><td>1635721458409799680</td><td>Gaia DR2 124025598808766592</td><td>124025598808766592</td><td>368320592</td><td>2015.5</td><td>51.74181251673872</td><td>5.419441270373352</td><td>31.114243206598264</td><td>3.2749314150349944</td><td>--</td><td>--</td><td>--</td><td>--</td><td>--</td><td>--</td><td>--</td><td>0.3501148</td><td>--</td><td>--</td><td>--</td><td>--</td><td>--</td><td>--</td><td>--</td><td>--</td><td>--</td><td>45</td><td>0</td><td>45</td><td>0</td><td>2.063832</td><td>60.5614</td><td>4.41014871753927</td><td>1.6352110109583873</td><td>3</td><td>False</td><td>0.012436719</td><td>--</td><td>--</td><td>-0.05816716</td><td>5</td><td>4</td><td>4157.966</td><td>0</td><td>6</td><td>False</td><td>54</td><td>76.80656288580883</td><td>1.6082936788134725</td><td>47.756554</td><td>20.97487</td><td>0</td><td>--</td><td>--</td><td>--</td><td>--</td><td>0</td><td>--</td><td>--</td><td>--</td><td>--</td><td>--</td><td>2</td><td>--</td><td>--</td><td>--</td><td>--</td><td>--</td><td>0</td><td>--</td><td>--</td><td>--</td><td>NOT_AVAILABLE</td><td>158.06297034908985</td><td>-20.94701776392065</td><td>57.19193324744063</td><td>11.928682294547025</td><td>--</td><td>--</td><td>--</td><td>--</td><td>--</td><td>--</td><td>--</td><td>--</td><td>--</td><td>--</td><td>--</td><td>--</td><td>--</td><td>--</td><td>--</td><td>--</td><td>--</td><td>https://gea.esac.esa.int/data-server/datalink/links?ID=Gaia+DR2+124025598808766592</td><td>0.4998731824428705</td></tr>\n",
       "<tr><td>1635721458409799680</td><td>Gaia DR2 121429480056392960</td><td>121429480056392960</td><td>856567267</td><td>2015.5</td><td>52.68976804383074</td><td>0.39698088923102665</td><td>31.686877958977412</td><td>0.26445583624749547</td><td>0.3099670858444281</td><td>0.442445271139197</td><td>0.70057726</td><td>-0.16520390408264551</td><td>0.6059880940878587</td><td>-3.2335190706169183</td><td>0.49514221453420465</td><td>-0.37319395</td><td>0.53366935</td><td>-0.2390226</td><td>0.37309736</td><td>-0.5268493</td><td>0.24053952</td><td>0.015458805</td><td>0.12735206</td><td>0.1356348</td><td>0.023854973</td><td>131</td><td>0</td><td>131</td><td>0</td><td>1.8254606</td><td>156.48506</td><td>0.7621117893887303</td><td>1.4506829960315097</td><td>31</td><td>False</td><td>0.27068484</td><td>1.3259246743504798</td><td>0.07517632877340827</td><td>-0.09690207</td><td>15</td><td>9</td><td>0.5607543</td><td>0</td><td>17</td><td>False</td><td>149</td><td>517.2480499503074</td><td>1.6759400791214663</td><td>308.6316</td><td>18.90412</td><td>13</td><td>188.06864293244445</td><td>12.436941752265188</td><td>15.121776</td><td>19.665598</td><td>13</td><td>547.4040824236229</td><td>10.939862527115451</td><td>50.037563</td><td>17.91615</td><td>1.4218956</td><td>0</td><td>1.7494488</td><td>0.7614784</td><td>0.98797035</td><td>--</td><td>--</td><td>0</td><td>--</td><td>--</td><td>--</td><td>NOT_AVAILABLE</td><td>158.38410951194305</td><td>-20.002524871553426</td><td>58.139309958057666</td><td>12.281565985259546</td><td>--</td><td>--</td><td>--</td><td>--</td><td>--</td><td>--</td><td>--</td><td>--</td><td>--</td><td>--</td><td>--</td><td>--</td><td>--</td><td>--</td><td>--</td><td>--</td><td>--</td><td>https://gea.esac.esa.int/data-server/datalink/links?ID=Gaia+DR2+121429480056392960</td><td>0.49987626018451675</td></tr>\n",
       "<tr><td>1635721458409799680</td><td>Gaia DR2 121442575412454656</td><td>121442575412454656</td><td>488956268</td><td>2015.5</td><td>52.59941770165953</td><td>1.2037331269260791</td><td>31.755071687189716</td><td>0.7261533715877969</td><td>-0.19974377773187368</td><td>1.4001310110525456</td><td>-0.14266078</td><td>1.4005049274878738</td><td>1.7856755152328487</td><td>-20.586820346790056</td><td>1.7191979778554949</td><td>-0.35207865</td><td>0.67902875</td><td>-0.34933478</td><td>-0.17013477</td><td>-0.4985754</td><td>0.19598307</td><td>0.24492738</td><td>-0.12207537</td><td>-0.26959473</td><td>0.356225</td><td>113</td><td>0</td><td>113</td><td>0</td><td>1.0479736</td><td>123.41566</td><td>0.5869659026765669</td><td>0.08732099308779427</td><td>31</td><td>False</td><td>0.036559444</td><td>1.355824587479359</td><td>0.2630694948690217</td><td>0.0033927232</td><td>13</td><td>8</td><td>1.9234165</td><td>0</td><td>16</td><td>False</td><td>123</td><td>109.32444740701416</td><td>1.143357071384658</td><td>95.617065</td><td>20.591572</td><td>8</td><td>56.04989835093886</td><td>8.057809421788672</td><td>6.955972</td><td>20.979952</td><td>11</td><td>165.20966862266036</td><td>9.536002358665824</td><td>17.324835</td><td>19.216831</td><td>2.02388</td><td>0</td><td>1.7631207</td><td>0.38838005</td><td>1.3747406</td><td>--</td><td>--</td><td>0</td><td>--</td><td>--</td><td>--</td><td>NOT_AVAILABLE</td><td>158.27507440283424</td><td>-19.994859902459943</td><td>58.08032629856505</td><td>12.36663241650298</td><td>--</td><td>--</td><td>--</td><td>--</td><td>--</td><td>--</td><td>--</td><td>--</td><td>--</td><td>--</td><td>--</td><td>--</td><td>--</td><td>--</td><td>--</td><td>--</td><td>--</td><td>https://gea.esac.esa.int/data-server/datalink/links?ID=Gaia+DR2+121442575412454656</td><td>0.49991677000142815</td></tr>\n",
       "<tr><td>1635721458409799680</td><td>Gaia DR2 121373130085327232</td><td>121373130085327232</td><td>20404555</td><td>2015.5</td><td>52.843576146798895</td><td>0.35426618479912786</td><td>31.362664967026973</td><td>0.1750575414361814</td><td>0.12463802078246096</td><td>0.36558176321866204</td><td>0.34093064</td><td>3.085112016648829</td><td>0.6453267486736076</td><td>0.3630262888011313</td><td>0.36285211861624683</td><td>-0.29158345</td><td>0.3834326</td><td>-0.039539464</td><td>0.27978978</td><td>-0.3920108</td><td>0.15186511</td><td>0.13769676</td><td>0.21567559</td><td>0.07598835</td><td>-0.057336137</td><td>103</td><td>0</td><td>102</td><td>1</td><td>0.42027393</td><td>102.280075</td><td>0.0</td><td>0.0</td><td>31</td><td>False</td><td>0.5572724</td><td>1.477276019310152</td><td>0.06032228392543167</td><td>-0.203908</td><td>12</td><td>7</td><td>0.57074696</td><td>0</td><td>15</td><td>False</td><td>126</td><td>812.034048847875</td><td>1.9351867497066473</td><td>419.61536</td><td>18.41443</td><td>15</td><td>316.01146175977414</td><td>8.392605879234361</td><td>37.653557</td><td>19.10213</td><td>14</td><td>769.6790427152133</td><td>8.850132494946308</td><td>86.96808</td><td>17.546146</td><td>1.3370012</td><td>0</td><td>1.5559845</td><td>0.6877003</td><td>0.8682842</td><td>--</td><td>--</td><td>0</td><td>--</td><td>--</td><td>--</td><td>NOT_AVAILABLE</td><td>158.7048325320477</td><td>-20.18022845687953</td><td>58.187652139448396</td><td>11.935055967298437</td><td>--</td><td>--</td><td>--</td><td>--</td><td>--</td><td>--</td><td>--</td><td>--</td><td>--</td><td>--</td><td>--</td><td>--</td><td>--</td><td>--</td><td>--</td><td>--</td><td>--</td><td>https://gea.esac.esa.int/data-server/datalink/links?ID=Gaia+DR2+121373130085327232</td><td>0.49996786089493644</td></tr>\n",
       "<tr><td>1635721458409799680</td><td>Gaia DR2 121335540531782528</td><td>121335540531782528</td><td>447662292</td><td>2015.5</td><td>52.65082704145744</td><td>0.6437559370941209</td><td>30.977930960096074</td><td>0.39561452958733656</td><td>0.7252174541229196</td><td>0.8023852057044809</td><td>0.9038271</td><td>2.8070747430477185</td><td>0.9887242272498983</td><td>-2.651340943589824</td><td>0.7797626671137136</td><td>-0.104389235</td><td>0.6161535</td><td>0.16155498</td><td>0.30995256</td><td>-0.40774497</td><td>0.1257204</td><td>0.34367517</td><td>0.25741398</td><td>0.16611776</td><td>0.26527923</td><td>132</td><td>0</td><td>132</td><td>0</td><td>1.4230487</td><td>150.30934</td><td>1.0881349631716315</td><td>1.2201021820673719</td><td>31</td><td>False</td><td>0.10938345</td><td>1.2524743017286408</td><td>0.1327095192201463</td><td>-0.021436427</td><td>15</td><td>9</td><td>0.96882796</td><td>0</td><td>18</td><td>False</td><td>157</td><td>276.8263219598287</td><td>1.2967632425319264</td><td>213.47484</td><td>19.582848</td><td>17</td><td>74.54201399010495</td><td>10.750682343597026</td><td>6.9337006</td><td>20.670385</td><td>17</td><td>367.85614289937683</td><td>6.781732882529125</td><td>54.242203</td><td>18.347725</td><td>1.5981072</td><td>0</td><td>2.3226604</td><td>1.0875378</td><td>1.2351227</td><td>--</td><td>--</td><td>0</td><td>--</td><td>--</td><td>--</td><td>NOT_AVAILABLE</td><td>158.8151611054385</td><td>-20.585843712850682</td><td>57.92770312758129</td><td>11.602704765400665</td><td>--</td><td>--</td><td>--</td><td>--</td><td>--</td><td>--</td><td>--</td><td>--</td><td>--</td><td>--</td><td>--</td><td>--</td><td>--</td><td>--</td><td>--</td><td>--</td><td>--</td><td>https://gea.esac.esa.int/data-server/datalink/links?ID=Gaia+DR2+121335540531782528</td><td>0.4999884996903836</td></tr>\n",
       "</table>"
      ],
      "text/plain": [
       "<Table length=4109>\n",
       "    solution_id             designation         ...         dist        \n",
       "                                                ...                     \n",
       "       int64                   object           ...       float64       \n",
       "------------------- --------------------------- ... --------------------\n",
       "1635721458409799680 Gaia DR2 121406978723406720 ... 0.006229196804838743\n",
       "1635721458409799680 Gaia DR2 121407013083143936 ... 0.016539959314344065\n",
       "1635721458409799680 Gaia DR2 121406978723405952 ... 0.017000428213179014\n",
       "1635721458409799680 Gaia DR2 121405501253729408 ...  0.01805338641721064\n",
       "1635721458409799680 Gaia DR2 121407047442195072 ... 0.023092736510169545\n",
       "1635721458409799680 Gaia DR2 121404710980675328 ... 0.023887257992095085\n",
       "1635721458409799680 Gaia DR2 121404710980675200 ... 0.024063554503847635\n",
       "1635721458409799680 Gaia DR2 121406188448737664 ...  0.02441465096097125\n",
       "1635721458409799680 Gaia DR2 121407111866582016 ... 0.029156321138225277\n",
       "                ...                         ... ...                  ...\n",
       "1635721458409799680 Gaia DR2 124433448902813184 ...   0.4995319290015644\n",
       "1635721458409799680 Gaia DR2 121342721716759680 ...   0.4996372799729807\n",
       "1635721458409799680 Gaia DR2 124451560779916416 ...  0.49966341442580464\n",
       "1635721458409799680 Gaia DR2 124439461857161856 ...   0.4996795680161727\n",
       "1635721458409799680 Gaia DR2 121373130085325952 ...    0.499863231464416\n",
       "1635721458409799680 Gaia DR2 124025598808766592 ...   0.4998731824428705\n",
       "1635721458409799680 Gaia DR2 121429480056392960 ...  0.49987626018451675\n",
       "1635721458409799680 Gaia DR2 121442575412454656 ...  0.49991677000142815\n",
       "1635721458409799680 Gaia DR2 121373130085327232 ...  0.49996786089493644\n",
       "1635721458409799680 Gaia DR2 121335540531782528 ...   0.4999884996903836"
      ]
     },
     "execution_count": 8,
     "metadata": {},
     "output_type": "execute_result"
    }
   ],
   "source": [
    "#query Gaia catalogue\n",
    "print('querying Gaia catalogue for ',target_sel.label,' around coords:',c.to_string('hmsdms'), 'with radius ',radius,' deg')\n",
    "\n",
    "rad = u.Quantity(radius, u.deg)\n",
    "\n",
    "Gaia.MAIN_GAIA_TABLE = \"gaiaedr3.gaia_source\" # Select early Data Release 3\n",
    "#Gaia.MAIN_GAIA_TABLE = \"gaiadr2.gaia_source\"  # Reselect Data Release 2, default\n",
    "Gaia.ROW_LIMIT=-1\n",
    "\n",
    "j = Gaia.cone_search_async(c, rad,columns=[])\n",
    "\n",
    "r = j.get_results()\n",
    "r"
   ]
  },
  {
   "cell_type": "code",
   "execution_count": 14,
   "metadata": {},
   "outputs": [
    {
     "name": "stdout",
     "output_type": "stream",
     "text": [
      "selecting from Gaia catalogue around ref coords: [52.12 31.18] with radius  0.15  deg\n",
      "median parallax of position selected region: 2.66  mas\n",
      "median distane to position selected region: 375.904  pc\n"
     ]
    }
   ],
   "source": [
    "#determine separation from cluster centre reference coords\n",
    "cat=SkyCoord(r['ra'],r['dec'])\n",
    "ref=SkyCoord(coords[0]*u.deg,coords[1]*u.deg)\n",
    "sep = cat.separation(ref)\n",
    "sep_ref=pd.Series((sep),name='sep_ref')\n",
    "print('selecting from Gaia catalogue around ref coords:',np.round(coords,2), 'with radius ',radius2,' deg')\n",
    "cluster_table_wide=r.to_pandas()\n",
    "cluster_table_wide=pd.concat([cluster_table_wide,sep_ref],axis=1)\n",
    "#intial filtering of parallax\n",
    "pzero=0.3 #ignore <0.3 parallax\n",
    "perr=5 #set min parallax error\n",
    "cluster_table_wide=cluster_table_wide.query(f'parallax > {pzero} and parallax_error < {perr}')\n",
    "distance_eDR3=pd.Series((1/cluster_table_wide.parallax*10e2),name='distance_eDR3')\n",
    "cluster_table_wide=pd.concat([cluster_table_wide,distance_eDR3],axis=1) #add distance column to each object\n",
    "#calculate absolute G band magnitudes using distances\n",
    "abs_phot_g_mean_mag_eDR3=pd.Series(cluster_table_wide['phot_g_mean_mag']-5*np.log10(cluster_table_wide['distance_eDR3']/10),name='abs_phot_g_mean_mag_eDR3')\n",
    "cluster_table_wide=pd.concat([cluster_table_wide,abs_phot_g_mean_mag_eDR3],axis=1)\n",
    "\n",
    "#select all stars within reference radius, with min G mag and colour selections\n",
    "g_min=18\n",
    "cluster_table_all=cluster_table_wide.query(f'sep_ref < {radius2} and phot_g_mean_mag < {g_min} and bp_g > -0.2 and g_rp < 2.0')\n",
    "\n",
    "parallax=np.median(cluster_table_all['parallax'])\n",
    "print('median parallax of position selected region:',np.round(parallax,3),' mas')\n",
    "print('median distane to position selected region:',np.round(1/parallax*1000,3),' pc')\n",
    "dist=1/parallax*1000\n",
    "\n",
    "#select main sequence stars from entire region\n",
    "cluster_table_ms=cluster_table_wide.query(f'parallax > 2')"
   ]
  },
  {
   "cell_type": "markdown",
   "metadata": {},
   "source": [
    "#### Plot CMD for entire region"
   ]
  },
  {
   "cell_type": "code",
   "execution_count": null,
   "metadata": {},
   "outputs": [],
   "source": [
    "fig1, ax1 = subplots(1,1)\n",
    "ax1.plot(cluster_table_wide['bp_rp'],cluster_table_wide['abs_phot_g_mean_mag_eDR3'],'k.',label='all query',markersize=0.5)\n",
    "ax1.plot(cluster_table_all['bp_rp'],cluster_table_all['abs_phot_g_mean_mag_eDR3'],'r.',label='cluster position and magnitude query',markersize=5)\n",
    "ax1.set_xlim(min(cluster_table_all['bp_rp'])-0.5,max(cluster_table_all['bp_rp'])+0.5)\n",
    "ax1.set_ylim(max(cluster_table_all['abs_phot_g_mean_mag_eDR3'])+1,min(cluster_table_all['abs_phot_g_mean_mag_eDR3'])-1)\n",
    "ax1.legend()\n",
    "ax1.set_xlabel('BP-RP [mag]')\n",
    "ax1.set_ylabel('G [mag]')\n",
    "show()"
   ]
  },
  {
   "cell_type": "markdown",
   "metadata": {},
   "source": [
    "#### Plot histogram of parallaxes and select window for cluster parallax"
   ]
  },
  {
   "cell_type": "code",
   "execution_count": null,
   "metadata": {},
   "outputs": [],
   "source": [
    "def sel_par_range(drange=[0,2000],wbins=50,log=False):\n",
    "    global cluster_table_par\n",
    "    cluster_table_par=cluster_table_all.query(f'distance_eDR3 > {drange[0]} and distance_eDR3 < {drange[1]}')\n",
    "    figure()\n",
    "    data=cluster_table_all['distance_eDR3'][cluster_table_all['distance_eDR3']<2000]\n",
    "    w = wbins\n",
    "    n = math.ceil((max(data) - min(data))/w)\n",
    "    hist(data,bins=n,label='position query',log=log,color='c')\n",
    "    data2=cluster_table_par['distance_eDR3'][cluster_table_par['distance_eDR3']<2000]\n",
    "    n2 = math.ceil((max(data2) - min(data2))/w)\n",
    "    hist(data2,bins=n2,label='cluster par selection',log=log,color='r')\n",
    "    xlabel('distance [pc]')\n",
    "    ylabel('count')\n",
    "    legend()\n",
    "    show()\n",
    "    \n",
    "interact(sel_par_range, drange=widget.FloatRangeSlider(value=[0,2000],min=0,max=2000,step=1,description='Distance range [pc]:',\n",
    "                                    readout_format='.0f',layout={'width': '600px'},style = {'description_width': 'initial'},\n",
    "                                    continuous_update=False),\n",
    "        wbins=widget.FloatSlider(value=50,min=10,max=100,step=1,description='bin width:',continuous_update=False),\n",
    "        log=widget.Checkbox(value=False,description='use log scale for count?'))\n"
   ]
  },
  {
   "cell_type": "markdown",
   "metadata": {},
   "source": [
    "#### plot cmd with parallax selection highlighted"
   ]
  },
  {
   "cell_type": "code",
   "execution_count": 273,
   "metadata": {},
   "outputs": [
    {
     "data": {
      "application/vnd.jupyter.widget-view+json": {
       "model_id": "baea2b0bd2924f5b9d1354588ef959cf",
       "version_major": 2,
       "version_minor": 0
      },
      "text/plain": [
       "Canvas(toolbar=Toolbar(toolitems=[('Home', 'Reset original view', 'home', 'home'), ('Back', 'Back to previous …"
      ]
     },
     "metadata": {},
     "output_type": "display_data"
    }
   ],
   "source": [
    "fig1, ax1 = subplots(1,1)\n",
    "ax1.plot(cluster_table_all['bp_rp'],cluster_table_all['abs_phot_g_mean_mag_eDR3'],'c.',label='pos query')\n",
    "ax1.plot(cluster_table_par['bp_rp'],cluster_table_par['abs_phot_g_mean_mag_eDR3'],'r.',label='parallax selection')\n",
    "ax1.set_xlim(min(cluster_table_all['bp_rp'])-0.5,max(cluster_table_all['bp_rp'])+0.5)\n",
    "ax1.set_ylim(max(cluster_table_all['abs_phot_g_mean_mag_eDR3'])+1,min(cluster_table_all['abs_phot_g_mean_mag_eDR3'])-1)\n",
    "ax1.legend()\n",
    "ax1.set_xlabel('BP-RP [mag]')\n",
    "ax1.set_ylabel('G [mag]')\n",
    "show()"
   ]
  },
  {
   "cell_type": "raw",
   "metadata": {},
   "source": [
    "#### plot proper motions with parallax selection highlighted"
   ]
  },
  {
   "cell_type": "code",
   "execution_count": null,
   "metadata": {},
   "outputs": [],
   "source": [
    "fig3, ax3 = subplots(1,1)\n",
    "#ax3.plot(cluster_table_all['pmra'],cluster_table_all['pmdec'],'g.',label='all query')\n",
    "#ax3.plot(cluster_table_par['pmra'],cluster_table_par['pmdec'],'r.',label='par  sel')\n",
    "errorbar(cluster_table_all['pmra'],cluster_table_all['pmdec'], \n",
    "         xerr=cluster_table_all['pmra_error'], yerr=cluster_table_all['pmdec_error'], fmt=\".\", color=\"c\",label='pos query')\n",
    "errorbar(cluster_table_par['pmra'],cluster_table_par['pmdec'], \n",
    "         xerr=cluster_table_par['pmra_error'], yerr=cluster_table_par['pmdec_error'], fmt=\".\", color=\"r\",label='par sel')\n",
    "xlim(-30,30)\n",
    "ylim(-30,30)\n",
    "ax3.legend()\n",
    "ax3.set_xlabel('pmra [mas/yr]')\n",
    "ax3.set_ylabel('pmdec [mas/yr]')\n",
    "show()"
   ]
  },
  {
   "cell_type": "markdown",
   "metadata": {},
   "source": [
    "##### zoom in on the above plot to set limits"
   ]
  },
  {
   "cell_type": "code",
   "execution_count": null,
   "metadata": {},
   "outputs": [],
   "source": [
    "from scipy.stats import kde\n",
    "\n",
    "pmdec_min, pmdec_max = ax3.get_ylim()\n",
    "pmra_min, pmra_max = ax3.get_xlim()\n",
    "\n",
    "cluster_table=cluster_table_par.query(f'pmra > {pmra_min} and pmra < {pmra_max} and pmdec > {pmdec_min} and pmdec < {pmdec_max}')\n",
    "\n",
    "# select data\n",
    "x = cluster_table['pmra']\n",
    "y = cluster_table['pmdec']\n",
    " \n",
    "# Evaluate a gaussian kde on a regular grid of nbins x nbins over data extents\n",
    "nbins=100\n",
    "k = kde.gaussian_kde([x,y])\n",
    "xi, yi = np.mgrid[x.min():x.max():nbins*1j, y.min():y.max():nbins*1j]\n",
    "zi = k(np.vstack([xi.flatten(), yi.flatten()]))\n",
    " \n",
    "# Make the plot\n",
    "fig5, ax5 = subplots(1,1)\n",
    "ax5.plot(cluster_table['pmra'],cluster_table['pmdec'],'k.',label='all query',alpha=0.1)\n",
    "ax5.pcolormesh(xi, yi, zi.reshape(xi.shape),norm=colors.PowerNorm(gamma=5),shading='auto',cmap='Spectral_r')\n",
    "\n",
    "ax5.set_xlabel('pmra [mas/yr]')\n",
    "ax5.set_ylabel('pmdec [mas/yr]')\n",
    "show()"
   ]
  },
  {
   "cell_type": "markdown",
   "metadata": {},
   "source": [
    "##### zoom in again on the above KDE plot to set limits for final selection"
   ]
  },
  {
   "cell_type": "markdown",
   "metadata": {},
   "source": [
    "#### plot CMD with parallax and proper motion selections"
   ]
  },
  {
   "cell_type": "code",
   "execution_count": null,
   "metadata": {},
   "outputs": [],
   "source": [
    "fig1, ax1 = subplots(1,1)\n",
    "ax1.plot(cluster_table_all['bp_rp'],cluster_table_all['abs_phot_g_mean_mag_eDR3'],'c.',label='pos query')\n",
    "ax1.plot(cluster_table['bp_rp'],cluster_table['abs_phot_g_mean_mag_eDR3'],'r.',label='cluster parallax and pm selection')\n",
    "ax1.set_xlim(min(cluster_table_all['bp_rp'])-0.5,max(cluster_table_all['bp_rp'])+0.5)\n",
    "ax1.set_ylim(max(cluster_table_all['abs_phot_g_mean_mag_eDR3'])+1,min(cluster_table_all['abs_phot_g_mean_mag_eDR3'])-1)\n",
    "ax1.legend()\n",
    "ax1.set_xlabel('BP-RP [mag]')\n",
    "ax1.set_ylabel('G [mag]')\n",
    "show()"
   ]
  },
  {
   "cell_type": "code",
   "execution_count": null,
   "metadata": {},
   "outputs": [],
   "source": [
    "parallax=np.median(cluster_table['parallax'])\n",
    "print('median parallax of selected cluster members:',np.round(parallax,3),' mas')\n",
    "print('median distane to selected cluster members:',np.round(1/parallax*10e2,3),' pc')\n",
    "dist=1/parallax*10e2"
   ]
  },
  {
   "cell_type": "markdown",
   "metadata": {},
   "source": [
    "#### Overplot isochrones"
   ]
  },
  {
   "cell_type": "code",
   "execution_count": null,
   "metadata": {},
   "outputs": [],
   "source": [
    "print('Ctrl/Cmd + Click to select isochrones to plot')\n",
    "def plot_cmd(iso_sel=['100myr','10myr','1myr']):\n",
    "    fig2, ax2 = subplots(1,1)\n",
    "    ax2.plot(cluster_table['bp_rp'],cluster_table['abs_phot_g_mean_mag_eDR3'],'r.',label='Cluster',markersize=10)\n",
    "    ax2.plot(cluster_table_ms['bp_rp'],cluster_table_ms['abs_phot_g_mean_mag_eDR3'],'k.',label='Main Sequence',markersize=1)\n",
    "\n",
    "    for iso in iso_sel:\n",
    "        ax2.plot(iso_list[iso]['G_BPmag']-iso_list[iso]['G_RPmag'],iso_list[iso]['Gmag'],'-',label=iso)\n",
    "\n",
    "    ax2.set_xlim(min(cluster_table['bp_rp'])-0.5,max(cluster_table['bp_rp'])+0.5)\n",
    "    ax2.set_ylim(max(cluster_table['abs_phot_g_mean_mag_eDR3'])+1,min(cluster_table['abs_phot_g_mean_mag_eDR3'])-1)\n",
    "    ax2.legend()\n",
    "    ax2.set_xlabel('BP-RP [mag]')\n",
    "    ax2.set_ylabel('G [mag]')\n",
    "    show()\n",
    "\n",
    "interact(plot_cmd,iso_sel=widget.SelectMultiple(options=iso_list.keys(),value=['100myr','10myr','1myr'],\n",
    "    description='Select Isochrones to plot:',style = {'description_width': 'initial'},rows=len(iso_list.keys())))"
   ]
  },
  {
   "cell_type": "markdown",
   "metadata": {},
   "source": [
    "#### Position plot of identified cluster"
   ]
  },
  {
   "cell_type": "code",
   "execution_count": null,
   "metadata": {},
   "outputs": [],
   "source": [
    "fig1, ax1 = subplots(1,1)\n",
    "ax1.plot(cluster_table_wide['ra'],cluster_table_wide['dec'],'k.',label='all query',markersize=1)\n",
    "ax1.plot(cluster_table['ra'],cluster_table['dec'],'r.',label='cluster pos, par and pm selection')\n",
    "ax1.legend()\n",
    "ax1.invert_xaxis()\n",
    "ax1.set_ylabel('Dec [deg]')\n",
    "ax1.set_xlabel('RA [deg]')\n",
    "show()"
   ]
  },
  {
   "cell_type": "code",
   "execution_count": null,
   "metadata": {},
   "outputs": [],
   "source": [
    "close('all')"
   ]
  },
  {
   "cell_type": "code",
   "execution_count": null,
   "metadata": {},
   "outputs": [],
   "source": []
  }
 ],
 "metadata": {
  "kernelspec": {
   "display_name": "Python 3",
   "language": "python",
   "name": "python3"
  },
  "language_info": {
   "codemirror_mode": {
    "name": "ipython",
    "version": 3
   },
   "file_extension": ".py",
   "mimetype": "text/x-python",
   "name": "python",
   "nbconvert_exporter": "python",
   "pygments_lexer": "ipython3",
   "version": "3.7.3"
  }
 },
 "nbformat": 4,
 "nbformat_minor": 4
}
