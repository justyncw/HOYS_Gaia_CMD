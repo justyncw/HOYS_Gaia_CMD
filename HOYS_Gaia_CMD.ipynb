{
 "cells": [
  {
   "cell_type": "markdown",
   "metadata": {},
   "source": [
    "# Gaia colour magnitude diagram (CMD) for HOYS Targets"
   ]
  },
  {
   "cell_type": "markdown",
   "metadata": {},
   "source": [
    "Welcome to the CMD notebook for the HOYS LCO Project.\\\n",
    "Please see the video tutorial.\n",
    "\n",
    "### Notebook tips:\n",
    "* ***Shift + Enter on a code cell/block to run it and advance to the next cell.***\n",
    "* Can re-run blocks out of order as long as the variables are already there\n",
    "* If python kernal crashses or out of memory, use the reset button above to reset the kernal."
   ]
  },
  {
   "cell_type": "code",
   "execution_count": null,
   "metadata": {
    "tags": []
   },
   "outputs": [],
   "source": [
    "import time\n",
    "import math\n",
    "from matplotlib import *\n",
    "from matplotlib.pyplot import *\n",
    "import numpy as np\n",
    "import pandas as pd\n",
    "import astropy\n",
    "from astropy.time import Time\n",
    "import astropy.units as u\n",
    "from astropy.coordinates import SkyCoord\n",
    "from astroquery.gaia import Gaia\n",
    "from astroquery.skyview import SkyView\n",
    "import numpy.ma as ma\n",
    "import os\n",
    "from ipywidgets import interact, interactive, fixed, interact_manual\n",
    "import ipywidgets as widget\n",
    "from IPython.display import display,clear_output\n"
   ]
  },
  {
   "cell_type": "code",
   "execution_count": null,
   "metadata": {},
   "outputs": [],
   "source": [
    "#for lab\n",
    "%matplotlib widget\n",
    "#for notebook/slides\n",
    "#%matplotlib notebook #for notebook/slides\n",
    "rcParams.update({'figure.max_open_warning': 50})"
   ]
  },
  {
   "cell_type": "code",
   "execution_count": null,
   "metadata": {},
   "outputs": [],
   "source": [
    "#load in isochrones\n",
    "iso_table_1myr = pd.read_csv('gaia_edr3_iso_1myr.txt',delim_whitespace=True,index_col=False,comment='#',skip_blank_lines=True)\n",
    "iso_table_6myr = pd.read_csv('gaia_edr3_iso_6myr.txt',delim_whitespace=True,index_col=False,comment='#',skip_blank_lines=True)\n",
    "iso_table_7myr = pd.read_csv('gaia_edr3_iso_7myr.txt',delim_whitespace=True,index_col=False,comment='#',skip_blank_lines=True)\n",
    "iso_table_8myr = pd.read_csv('gaia_edr3_iso_8myr.txt',delim_whitespace=True,index_col=False,comment='#',skip_blank_lines=True)\n",
    "iso_table_9myr = pd.read_csv('gaia_edr3_iso_9myr.txt',delim_whitespace=True,index_col=False,comment='#',skip_blank_lines=True)\n",
    "iso_table_10myr = pd.read_csv('gaia_edr3_iso_10myr.txt',delim_whitespace=True,index_col=False,comment='#',skip_blank_lines=True)\n",
    "iso_table_20myr = pd.read_csv('gaia_edr3_iso_20myr.txt',delim_whitespace=True,index_col=False,comment='#',skip_blank_lines=True)\n",
    "iso_table_100myr = pd.read_csv('gaia_edr3_iso_100myr.txt',delim_whitespace=True,index_col=False,comment='#',skip_blank_lines=True)\n",
    "iso_table_1gyr = pd.read_csv('gaia_edr3_iso_1gyr.txt',delim_whitespace=True,index_col=False,comment='#',skip_blank_lines=True)\n",
    "iso_table_1gyr=iso_table_1gyr.query('Gmag >-2')\n",
    "iso_list={'1gyr':iso_table_1gyr,'100myr':iso_table_100myr,'20myr':iso_table_20myr,'10myr':iso_table_10myr,'9myr':iso_table_9myr,'8myr':iso_table_8myr,\n",
    "          '7myr':iso_table_7myr,'6myr':iso_table_6myr,'1myr':iso_table_1myr}"
   ]
  },
  {
   "cell_type": "code",
   "execution_count": null,
   "metadata": {},
   "outputs": [],
   "source": [
    "import ssl\n",
    "ssl._create_default_https_context = ssl._create_unverified_context"
   ]
  },
  {
   "cell_type": "code",
   "execution_count": null,
   "metadata": {},
   "outputs": [],
   "source": [
    "#select HOYS target\n",
    "target_sel=widget.Dropdown(\n",
    "    options=[('NGC 1333', '03 29 02 +31 20 54'), \n",
    "             ('IC 348', '03 44 34 +32 09 48'), \n",
    "             ('Lambda – Ori Cluster','05 35 06 +09 56 00'),\n",
    "             ('M42','05 35 17 -05 23 28'), \n",
    "             ('L 1641 N Cluster','05 36 19 -06 22 12'), \n",
    "             ('Sigma – Ori Cluster','05 38 45 -02 36 00'), \n",
    "             ('NGC 2068','05 46 46 +00 04 12'), \n",
    "             ('NGC 2244','06 31 55 +04 56 30'),\n",
    "             ('NGC 2264','06 40 58 +09 53 42'),\n",
    "             ('MWSC 3274','20 11 13 +37 27 00'),\n",
    "             ('P Cyg','20 17 47 +38 01 59'),\n",
    "             ('Berkeley 86','20 20 12 +38 41 24'),\n",
    "             ('IC 5070','20 51 00 +44 22 00'),\n",
    "             ('IC 1396 A','21 36 35 +57 30 36'),\n",
    "             ('IC 1396 N','21 40 42 +58 16 06'),\n",
    "             ('NGC 7129','21 42 56 +66 06 12'),\n",
    "             ('IC 5146','21 53 29 +47 16 01'),\n",
    "             ('Gaia19fct','07 09 21 -10 29 35')\n",
    "            ],\n",
    "    description='Target:',\n",
    ")\n",
    "display(target_sel)"
   ]
  },
  {
   "cell_type": "code",
   "execution_count": null,
   "metadata": {},
   "outputs": [],
   "source": [
    "#query DSS2 IR image server\n",
    "c = SkyCoord(target_sel.value, unit=(u.hourangle, u.deg))\n",
    "print('querying DSS2 image server for ',target_sel.label,' around coords:',c.to_string('hmsdms'))\n",
    "img = SkyView.get_images(position=c,survey=['DSS2 IR'],coordinates='J2000',width=1*u.degree,height=1*u.degree)\n",
    "b = img[0][0]"
   ]
  },
  {
   "cell_type": "code",
   "execution_count": null,
   "metadata": {},
   "outputs": [],
   "source": [
    "#display image and make selections for position of Gaia query and cluster subset\n",
    "coords=[]\n",
    "def view_image(rad_sel=0.5,rad2_sel=0.25,ra_sel=c.ra.value,dec_sel=c.dec.value):\n",
    "    global radius, radius2, coords\n",
    "    radius=rad_sel\n",
    "    radius2=rad2_sel\n",
    "    fig, ax = subplots(figsize=(7,7))\n",
    "    ax.imshow(b.data,cmap='gray',extent=[b.header['CRVAL1']-(b.header['NAXIS1']-b.header['CRPIX1'])*b.header['CDELT1'],\n",
    "                                                               b.header['CRVAL1']+(b.header['NAXIS1']-b.header['CRPIX1'])*b.header['CDELT1'],\n",
    "                                                               b.header['CRVAL2']+(b.header['NAXIS2']-b.header['CRPIX2'])*b.header['CDELT2'],\n",
    "                                                               b.header['CRVAL2']-(b.header['NAXIS2']-b.header['CRPIX2'])*b.header['CDELT2']])\n",
    "    fig.gca().invert_yaxis()\n",
    "    circle = Circle((c.ra.deg,c.dec.deg),rad_sel,color='white',fill=False,linewidth=3)\n",
    "    circle2 = Circle((ra_sel,dec_sel),rad2_sel,color='red',fill=False,linewidth=3)\n",
    "    fig.gca().add_artist(circle)\n",
    "    fig.gca().add_artist(circle2)\n",
    "    ax.set_xlabel('RA [deg]')\n",
    "    ax.set_ylabel('Dec [deg]')\n",
    "    tight_layout()\n",
    "    show()\n",
    "    coords=[ra_sel,dec_sel]\n",
    "\n",
    "\n",
    "interact(view_image,rad_sel=widget.FloatSlider(value=0.5,min=0.1,max=0.6,step=0.05,description='Query circle radius [pc]:',\n",
    "                            layout={'width': '600px'},continuous_update=False,style = {'description_width': 'initial'}),\n",
    "        rad2_sel=widget.FloatSlider(value=0.25,min=0.1,max=0.6,step=0.05,description='Cluster selection radius [pc]:',\n",
    "                            layout={'width': '600px'},continuous_update=False,style = {'description_width': 'initial'}),\n",
    "        ra_sel=widget.FloatSlider(value=c.ra.value,min=c.ra.value-0.5,max=c.ra.value+0.5,step=0.01,description='Cluster selection RA [deg]:',\n",
    "                            layout={'width': '600px'},continuous_update=False,style = {'description_width': 'initial'}),\n",
    "        dec_sel=widget.FloatSlider(value=c.dec.value,min=c.dec.value-0.5,max=c.dec.value+0.5,step=0.01,description='Cluster selection Dec [deg]:',\n",
    "                            layout={'width': '600px'},continuous_update=False,style = {'description_width': 'initial'}))"
   ]
  },
  {
   "cell_type": "code",
   "execution_count": null,
   "metadata": {},
   "outputs": [],
   "source": [
    "#query Gaia catalogue\n",
    "c = SkyCoord(target_sel.value, unit=(u.hourangle, u.deg))\n",
    "print('querying Gaia catalogue for ',target_sel.label,' around coords:',c.to_string('hmsdms'), 'with radius ',radius,' deg')\n",
    "\n",
    "rad = u.Quantity(radius, u.deg)\n",
    "\n",
    "Gaia.MAIN_GAIA_TABLE = \"gaiaedr3.gaia_source\" # Select early Data Release 3\n",
    "#Gaia.MAIN_GAIA_TABLE = \"gaiadr2.gaia_source\"  # Reselect Data Release 2, default\n",
    "Gaia.ROW_LIMIT=-1\n",
    "\n",
    "j = Gaia.cone_search_async(c, rad,columns=[])\n",
    "\n",
    "r = j.get_results()\n",
    "r"
   ]
  },
  {
   "cell_type": "code",
   "execution_count": null,
   "metadata": {},
   "outputs": [],
   "source": [
    "#determine separation from cluster centre reference coords\n",
    "cat=SkyCoord(r['ra'],r['dec'])\n",
    "ref=SkyCoord(coords[0]*u.deg,coords[1]*u.deg)\n",
    "sep = cat.separation(ref)\n",
    "sep_ref=pd.Series((sep),name='sep_ref')\n",
    "cluster_table_wide=r.to_pandas()\n",
    "cluster_table_wide=pd.concat([cluster_table_wide,sep_ref],axis=1)\n",
    "#intial filtering of parallax\n",
    "pzero=0.3 #ignore <0.3 parallax\n",
    "perr=5 #set min parallax error\n",
    "cluster_table_wide=cluster_table_wide.query(f'parallax > {pzero} and parallax_error < {perr}')\n",
    "distance_eDR3=pd.Series((1/cluster_table_wide.parallax*10e2),name='distance_eDR3')\n",
    "cluster_table_wide=pd.concat([cluster_table_wide,distance_eDR3],axis=1) #add distance column to each object\n",
    "#calculate absolute G band magnitudes using distances\n",
    "abs_phot_g_mean_mag_eDR3=pd.Series(cluster_table_wide['phot_g_mean_mag']-5*np.log10(cluster_table_wide['distance_eDR3']/10),name='abs_phot_g_mean_mag_eDR3')\n",
    "cluster_table_wide=pd.concat([cluster_table_wide,abs_phot_g_mean_mag_eDR3],axis=1)\n",
    "\n",
    "#select all stars within reference radius, with min G mag and colour selections\n",
    "g_min=18\n",
    "cluster_table_all=cluster_table_wide.query(f'sep_ref < {radius2} and phot_g_mean_mag < {g_min} and bp_g > -0.2 and g_rp < 2.0')\n",
    "\n",
    "parallax=np.median(cluster_table_all['parallax'])\n",
    "print('median parallax of position selected region:',np.round(parallax,3),' mas')\n",
    "print('median distane to position selected region:',np.round(1/parallax*1000,3),' pc')\n",
    "dist=1/parallax*1000\n",
    "\n",
    "#select main sequence stars from entire region\n",
    "cluster_table_ms=cluster_table_wide.query(f'parallax > 2')"
   ]
  },
  {
   "cell_type": "markdown",
   "metadata": {},
   "source": [
    "#### Plot CMD for entire region"
   ]
  },
  {
   "cell_type": "code",
   "execution_count": null,
   "metadata": {},
   "outputs": [],
   "source": [
    "fig1, ax1 = subplots(1,1)\n",
    "ax1.plot(cluster_table_wide['bp_rp'],cluster_table_wide['abs_phot_g_mean_mag_eDR3'],'k.',label='all query',markersize=0.5)\n",
    "ax1.plot(cluster_table_all['bp_rp'],cluster_table_all['abs_phot_g_mean_mag_eDR3'],'r.',label='cluster position and magnitude query',markersize=5)\n",
    "ax1.set_xlim(min(cluster_table_all['bp_rp'])-0.5,max(cluster_table_all['bp_rp'])+0.5)\n",
    "ax1.set_ylim(max(cluster_table_all['abs_phot_g_mean_mag_eDR3'])+1,min(cluster_table_all['abs_phot_g_mean_mag_eDR3'])-1)\n",
    "ax1.legend()\n",
    "ax1.set_xlabel('BP-RP [mag]')\n",
    "ax1.set_ylabel('G [mag]')\n",
    "show()"
   ]
  },
  {
   "cell_type": "markdown",
   "metadata": {},
   "source": [
    "#### Plot histogram of parallaxes and select window for cluster parallax"
   ]
  },
  {
   "cell_type": "code",
   "execution_count": null,
   "metadata": {},
   "outputs": [],
   "source": [
    "def sel_par_range(drange=[0,2000],wbins=50,log=False):\n",
    "    global cluster_table_par\n",
    "    cluster_table_par=cluster_table_all.query(f'distance_eDR3 > {drange[0]} and distance_eDR3 < {drange[1]}')\n",
    "    figure()\n",
    "    data=cluster_table_all['distance_eDR3'][cluster_table_all['distance_eDR3']<2000]\n",
    "    w = wbins\n",
    "    n = math.ceil((max(data) - min(data))/w)\n",
    "    hist(data,bins=n,label='position query',log=log,color='c')\n",
    "    data2=cluster_table_par['distance_eDR3'][cluster_table_par['distance_eDR3']<2000]\n",
    "    n2 = math.ceil((max(data2) - min(data2))/w)\n",
    "    hist(data2,bins=n2,label='cluster par selection',log=log,color='r')\n",
    "    xlabel('distance [pc]')\n",
    "    ylabel('count')\n",
    "    legend()\n",
    "    show()\n",
    "    \n",
    "interact(sel_par_range, drange=widget.FloatRangeSlider(value=[0,2000],min=0,max=2000,step=1,description='Distance range [pc]:',\n",
    "                                    readout_format='.0f',layout={'width': '600px'},style = {'description_width': 'initial'},\n",
    "                                    continuous_update=False),\n",
    "        wbins=widget.FloatSlider(value=50,min=10,max=100,step=1,description='bin width:',continuous_update=False),\n",
    "        log=widget.Checkbox(value=False,description='use log scale for count?'))\n"
   ]
  },
  {
   "cell_type": "markdown",
   "metadata": {},
   "source": [
    "#### plot cmd with parallax selection highlighted"
   ]
  },
  {
   "cell_type": "code",
   "execution_count": null,
   "metadata": {},
   "outputs": [],
   "source": [
    "fig1, ax1 = subplots(1,1)\n",
    "ax1.plot(cluster_table_all['bp_rp'],cluster_table_all['abs_phot_g_mean_mag_eDR3'],'c.',label='pos query')\n",
    "ax1.plot(cluster_table_par['bp_rp'],cluster_table_par['abs_phot_g_mean_mag_eDR3'],'r.',label='parallax selection')\n",
    "ax1.set_xlim(min(cluster_table_all['bp_rp'])-0.5,max(cluster_table_all['bp_rp'])+0.5)\n",
    "ax1.set_ylim(max(cluster_table_all['abs_phot_g_mean_mag_eDR3'])+1,min(cluster_table_all['abs_phot_g_mean_mag_eDR3'])-1)\n",
    "ax1.legend()\n",
    "ax1.set_xlabel('BP-RP [mag]')\n",
    "ax1.set_ylabel('G [mag]')\n",
    "show()"
   ]
  },
  {
   "cell_type": "markdown",
   "metadata": {},
   "source": [
    "#### plot proper motions with parallax selection highlighted"
   ]
  },
  {
   "cell_type": "code",
   "execution_count": null,
   "metadata": {},
   "outputs": [],
   "source": [
    "fig3, ax3 = subplots(1,1)\n",
    "#ax3.plot(cluster_table_all['pmra'],cluster_table_all['pmdec'],'g.',label='all query')\n",
    "#ax3.plot(cluster_table_par['pmra'],cluster_table_par['pmdec'],'r.',label='par  sel')\n",
    "errorbar(cluster_table_all['pmra'],cluster_table_all['pmdec'], \n",
    "         xerr=cluster_table_all['pmra_error'], yerr=cluster_table_all['pmdec_error'], fmt=\".\", color=\"c\",label='pos query')\n",
    "errorbar(cluster_table_par['pmra'],cluster_table_par['pmdec'], \n",
    "         xerr=cluster_table_par['pmra_error'], yerr=cluster_table_par['pmdec_error'], fmt=\".\", color=\"r\",label='par sel')\n",
    "xlim(-30,30)\n",
    "ylim(-30,30)\n",
    "ax3.legend()\n",
    "ax3.set_xlabel('pmra [mas/yr]')\n",
    "ax3.set_ylabel('pmdec [mas/yr]')\n",
    "show()"
   ]
  },
  {
   "cell_type": "markdown",
   "metadata": {},
   "source": [
    "##### zoom in on the above plot to set limits"
   ]
  },
  {
   "cell_type": "code",
   "execution_count": null,
   "metadata": {},
   "outputs": [],
   "source": [
    "from scipy.stats import kde\n",
    "\n",
    "pmdec_min, pmdec_max = ax3.get_ylim()\n",
    "pmra_min, pmra_max = ax3.get_xlim()\n",
    "\n",
    "cluster_table=cluster_table_par.query(f'pmra > {pmra_min} and pmra < {pmra_max} and pmdec > {pmdec_min} and pmdec < {pmdec_max}')\n",
    "\n",
    "# select data\n",
    "x = cluster_table['pmra']\n",
    "y = cluster_table['pmdec']\n",
    " \n",
    "# Evaluate a gaussian kde on a regular grid of nbins x nbins over data extents\n",
    "nbins=100\n",
    "k = kde.gaussian_kde([x,y])\n",
    "xi, yi = np.mgrid[x.min():x.max():nbins*1j, y.min():y.max():nbins*1j]\n",
    "zi = k(np.vstack([xi.flatten(), yi.flatten()]))\n",
    " \n",
    "# Make the plot\n",
    "fig5, ax5 = subplots(1,1)\n",
    "ax5.plot(cluster_table['pmra'],cluster_table['pmdec'],'k.',label='all query',alpha=0.1)\n",
    "ax5.pcolormesh(xi, yi, zi.reshape(xi.shape),norm=colors.PowerNorm(gamma=5),shading='auto',cmap='Spectral_r')\n",
    "\n",
    "ax5.set_xlabel('pmra [mas/yr]')\n",
    "ax5.set_ylabel('pmdec [mas/yr]')\n",
    "show()"
   ]
  },
  {
   "cell_type": "markdown",
   "metadata": {},
   "source": [
    "##### zoom in again on the above KDE plot to set limits for final selection"
   ]
  },
  {
   "cell_type": "markdown",
   "metadata": {},
   "source": [
    "#### plot CMD with parallax and proper motion selections"
   ]
  },
  {
   "cell_type": "code",
   "execution_count": null,
   "metadata": {},
   "outputs": [],
   "source": [
    "fig1, ax1 = subplots(1,1)\n",
    "ax1.plot(cluster_table_all['bp_rp'],cluster_table_all['abs_phot_g_mean_mag_eDR3'],'c.',label='pos query')\n",
    "ax1.plot(cluster_table['bp_rp'],cluster_table['abs_phot_g_mean_mag_eDR3'],'r.',label='cluster parallax and pm selection')\n",
    "ax1.set_xlim(min(cluster_table_all['bp_rp'])-0.5,max(cluster_table_all['bp_rp'])+0.5)\n",
    "ax1.set_ylim(max(cluster_table_all['abs_phot_g_mean_mag_eDR3'])+1,min(cluster_table_all['abs_phot_g_mean_mag_eDR3'])-1)\n",
    "ax1.legend()\n",
    "ax1.set_xlabel('BP-RP [mag]')\n",
    "ax1.set_ylabel('G [mag]')\n",
    "show()"
   ]
  },
  {
   "cell_type": "code",
   "execution_count": null,
   "metadata": {},
   "outputs": [],
   "source": [
    "parallax=np.median(cluster_table['parallax'])\n",
    "print('median parallax of selected cluster members:',np.round(parallax,3),' mas')\n",
    "print('median distane to selected cluster members:',np.round(1/parallax*10e2,3),' pc')\n",
    "dist=1/parallax*10e2"
   ]
  },
  {
   "cell_type": "markdown",
   "metadata": {},
   "source": [
    "#### Overplot isochrones"
   ]
  },
  {
   "cell_type": "code",
   "execution_count": null,
   "metadata": {},
   "outputs": [],
   "source": [
    "print('Ctrl/Cmd + Click to select isochrones to plot')\n",
    "def plot_cmd(iso_sel=['100myr','10myr','1myr']):\n",
    "    fig2, ax2 = subplots(1,1)\n",
    "    ax2.plot(cluster_table['bp_rp'],cluster_table['abs_phot_g_mean_mag_eDR3'],'r.',label='Cluster',markersize=10)\n",
    "    ax2.plot(cluster_table_ms['bp_rp'],cluster_table_ms['abs_phot_g_mean_mag_eDR3'],'k.',label='Main Sequence',markersize=1)\n",
    "\n",
    "    for iso in iso_sel:\n",
    "        ax2.plot(iso_list[iso]['G_BPmag']-iso_list[iso]['G_RPmag'],iso_list[iso]['Gmag'],'-',label=iso)\n",
    "\n",
    "    ax2.set_xlim(min(cluster_table['bp_rp'])-0.5,max(cluster_table['bp_rp'])+0.5)\n",
    "    ax2.set_ylim(max(cluster_table['abs_phot_g_mean_mag_eDR3'])+1,min(cluster_table['abs_phot_g_mean_mag_eDR3'])-1)\n",
    "    ax2.legend()\n",
    "    ax2.set_xlabel('BP-RP [mag]')\n",
    "    ax2.set_ylabel('G [mag]')\n",
    "    show()\n",
    "\n",
    "interact(plot_cmd,iso_sel=widget.SelectMultiple(options=iso_list.keys(),value=['100myr','10myr','1myr'],\n",
    "    description='Select Isochrones to plot:',style = {'description_width': 'initial'},rows=len(iso_list.keys())))"
   ]
  },
  {
   "cell_type": "markdown",
   "metadata": {},
   "source": [
    "#### Position plot of identified cluster"
   ]
  },
  {
   "cell_type": "code",
   "execution_count": null,
   "metadata": {},
   "outputs": [],
   "source": [
    "fig1, ax1 = subplots(1,1)\n",
    "ax1.plot(cluster_table_wide['ra'],cluster_table_wide['dec'],'k.',label='all query',markersize=1)\n",
    "ax1.plot(cluster_table['ra'],cluster_table['dec'],'r.',label='cluster pos, par and pm selection')\n",
    "ax1.legend()\n",
    "ax1.invert_xaxis()\n",
    "ax1.set_ylabel('Dec [deg]')\n",
    "ax1.set_xlabel('RA [deg]')\n",
    "show()"
   ]
  },
  {
   "cell_type": "code",
   "execution_count": null,
   "metadata": {},
   "outputs": [],
   "source": [
    "close('all')"
   ]
  },
  {
   "cell_type": "code",
   "execution_count": null,
   "metadata": {},
   "outputs": [],
   "source": []
  }
 ],
 "metadata": {
  "kernelspec": {
   "display_name": "Python 3",
   "language": "python",
   "name": "python3"
  },
  "language_info": {
   "codemirror_mode": {
    "name": "ipython",
    "version": 3
   },
   "file_extension": ".py",
   "mimetype": "text/x-python",
   "name": "python",
   "nbconvert_exporter": "python",
   "pygments_lexer": "ipython3",
   "version": "3.7.3"
  }
 },
 "nbformat": 4,
 "nbformat_minor": 4
}
